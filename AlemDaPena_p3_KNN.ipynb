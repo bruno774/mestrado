{
  "nbformat": 4,
  "nbformat_minor": 0,
  "metadata": {
    "colab": {
      "name": "AlemDaPena p3 KNN.ipynb",
      "provenance": [],
      "include_colab_link": true
    },
    "kernelspec": {
      "name": "python3",
      "display_name": "Python 3"
    }
  },
  "cells": [
    {
      "cell_type": "markdown",
      "metadata": {
        "id": "view-in-github",
        "colab_type": "text"
      },
      "source": [
        "<a href=\"https://colab.research.google.com/github/bruno774/mestrado/blob/master/AlemDaPena_p3_KNN.ipynb\" target=\"_parent\"><img src=\"https://colab.research.google.com/assets/colab-badge.svg\" alt=\"Open In Colab\"/></a>"
      ]
    },
    {
      "cell_type": "markdown",
      "metadata": {
        "id": "qWJhlCTDd3LC"
      },
      "source": [
        "## preliminaries"
      ]
    },
    {
      "cell_type": "code",
      "metadata": {
        "id": "LUMiNfiSfah5"
      },
      "source": [
        "import pandas as pd\n",
        "import numpy as np\n",
        "import time\n",
        "import matplotlib.pyplot as plt\n",
        "import seaborn as sns"
      ],
      "execution_count": null,
      "outputs": []
    },
    {
      "cell_type": "code",
      "metadata": {
        "id": "0qKKTKTeRjYn"
      },
      "source": [
        "from sklearn.model_selection import train_test_split\n",
        "from sklearn import metrics"
      ],
      "execution_count": null,
      "outputs": []
    },
    {
      "cell_type": "code",
      "metadata": {
        "id": "8MAayOShyccE"
      },
      "source": [
        "data_src = pd.read_pickle('alemPena-p2.pickle')"
      ],
      "execution_count": null,
      "outputs": []
    },
    {
      "cell_type": "code",
      "metadata": {
        "colab": {
          "base_uri": "https://localhost:8080/"
        },
        "id": "eRENCPo-WGdS",
        "outputId": "78c9d929-2c3e-403c-9fec-8db7d4b035a3"
      },
      "source": [
        "# just checking\n",
        "data_src.info()"
      ],
      "execution_count": null,
      "outputs": [
        {
          "output_type": "stream",
          "text": [
            "<class 'pandas.core.frame.DataFrame'>\n",
            "Int64Index: 606 entries, 180 to 881\n",
            "Data columns (total 30 columns):\n",
            " #   Column              Non-Null Count  Dtype  \n",
            "---  ------              --------------  -----  \n",
            " 0   GeneroReu           606 non-null    int64  \n",
            " 1   Reclusao            606 non-null    int64  \n",
            " 2   Detencao            606 non-null    int64  \n",
            " 3   Multa               606 non-null    int64  \n",
            " 4   CulpabCirc          606 non-null    int64  \n",
            " 5   AntecedCirc         606 non-null    int64  \n",
            " 6   CondSocialCirc      606 non-null    int64  \n",
            " 7   PersonCirc          606 non-null    int64  \n",
            " 8   MotivosCirc         606 non-null    int64  \n",
            " 9   CircCrimeCirc       606 non-null    int64  \n",
            " 10  ConseqCrimeCirc     606 non-null    int64  \n",
            " 11  ComportVitimaCirc   606 non-null    int64  \n",
            " 12  CircReincidencia    606 non-null    int64  \n",
            " 13  PenaMinLegal        606 non-null    int64  \n",
            " 14  Ano-norm            606 non-null    float64\n",
            " 15  ReclusaoDias-norm   606 non-null    float64\n",
            " 16  MultaDias-norm      606 non-null    float64\n",
            " 17  DetencaoDias-norm   606 non-null    float64\n",
            " 18  RI_Aberto           606 non-null    uint8  \n",
            " 19  RI_Fechado          606 non-null    uint8  \n",
            " 20  RI_Semi-Aberto      606 non-null    uint8  \n",
            " 21  TP_ArmasFogo        606 non-null    uint8  \n",
            " 22  TP_CP-adminPublico  606 non-null    uint8  \n",
            " 23  TP_CP-liberdade     606 non-null    uint8  \n",
            " 24  TP_CP-outros        606 non-null    uint8  \n",
            " 25  TP_CP-patrimonio    606 non-null    uint8  \n",
            " 26  TP_CP-pessoa        606 non-null    uint8  \n",
            " 27  TP_Drogas           606 non-null    uint8  \n",
            " 28  TP_Outros           606 non-null    uint8  \n",
            " 29  TP_Transito         606 non-null    uint8  \n",
            "dtypes: float64(4), int64(14), uint8(12)\n",
            "memory usage: 97.1 KB\n"
          ],
          "name": "stdout"
        }
      ]
    },
    {
      "cell_type": "markdown",
      "metadata": {
        "id": "5wTXlhthu7YO"
      },
      "source": [
        "## train-test split"
      ]
    },
    {
      "cell_type": "code",
      "metadata": {
        "id": "lHo3qQM_WOP6"
      },
      "source": [
        "# other class to test: CondSocialCirc GeneroReu\n",
        "classe = 'CondSocialCirc'"
      ],
      "execution_count": null,
      "outputs": []
    },
    {
      "cell_type": "code",
      "metadata": {
        "id": "uBNj9taABuCo"
      },
      "source": [
        "X = data_src.drop(columns=[classe]).values\n",
        "y = data_src[classe].values"
      ],
      "execution_count": null,
      "outputs": []
    },
    {
      "cell_type": "code",
      "metadata": {
        "colab": {
          "base_uri": "https://localhost:8080/"
        },
        "id": "q_LHJyP-o3Hp",
        "outputId": "81a5e002-9047-40cf-de00-1099c83e8c3a"
      },
      "source": [
        "X.shape"
      ],
      "execution_count": null,
      "outputs": [
        {
          "output_type": "execute_result",
          "data": {
            "text/plain": [
              "(606, 29)"
            ]
          },
          "metadata": {
            "tags": []
          },
          "execution_count": 541
        }
      ]
    },
    {
      "cell_type": "code",
      "metadata": {
        "id": "aEis_6oxCUFl"
      },
      "source": [
        "X_train, X_test, y_train, y_test = train_test_split(X, y, test_size=0.3)"
      ],
      "execution_count": null,
      "outputs": []
    },
    {
      "cell_type": "code",
      "metadata": {
        "colab": {
          "base_uri": "https://localhost:8080/"
        },
        "id": "ac6Lw37xWmSG",
        "outputId": "71c1221e-3c7a-43ab-96d9-3db70e344feb"
      },
      "source": [
        "X_train.shape, X_test.shape, y_train.shape, y_test.shape"
      ],
      "execution_count": null,
      "outputs": [
        {
          "output_type": "execute_result",
          "data": {
            "text/plain": [
              "((424, 29), (182, 29), (424,), (182,))"
            ]
          },
          "metadata": {
            "tags": []
          },
          "execution_count": 543
        }
      ]
    },
    {
      "cell_type": "markdown",
      "metadata": {
        "id": "CjmQwFZiRoJI"
      },
      "source": [
        "validacao de elementos unicos?"
      ]
    },
    {
      "cell_type": "code",
      "metadata": {
        "id": "KYd0zfmrGTxo"
      },
      "source": [
        "_, counts_elements_train = np.unique(y_train, return_counts=True)\n",
        "_, counts_elements_test = np.unique(y_test, return_counts=True)"
      ],
      "execution_count": null,
      "outputs": []
    },
    {
      "cell_type": "code",
      "metadata": {
        "id": "fHGlL1-mGpPZ",
        "colab": {
          "base_uri": "https://localhost:8080/"
        },
        "outputId": "fa9da4e0-9ee5-45e8-fdf7-47c1c051850e"
      },
      "source": [
        "counts_elements_train"
      ],
      "execution_count": null,
      "outputs": [
        {
          "output_type": "execute_result",
          "data": {
            "text/plain": [
              "array([351,  73])"
            ]
          },
          "metadata": {
            "tags": []
          },
          "execution_count": 545
        }
      ]
    },
    {
      "cell_type": "code",
      "metadata": {
        "id": "ufn9IyLvGzXE",
        "colab": {
          "base_uri": "https://localhost:8080/"
        },
        "outputId": "d15af1f9-a5fc-4393-f32f-26f70a67f4c3"
      },
      "source": [
        "counts_elements_test"
      ],
      "execution_count": null,
      "outputs": [
        {
          "output_type": "execute_result",
          "data": {
            "text/plain": [
              "array([151,  31])"
            ]
          },
          "metadata": {
            "tags": []
          },
          "execution_count": 546
        }
      ]
    },
    {
      "cell_type": "markdown",
      "metadata": {
        "id": "BY1tClzUWbdJ"
      },
      "source": [
        "## Chosing the best K values"
      ]
    },
    {
      "cell_type": "code",
      "metadata": {
        "id": "QxtTLu_JLv12"
      },
      "source": [
        "\n",
        "from sklearn.neighbors import KNeighborsClassifier"
      ],
      "execution_count": null,
      "outputs": []
    },
    {
      "cell_type": "code",
      "metadata": {
        "id": "pM_s1BxUGWnP"
      },
      "source": [
        "\n",
        "neighbors = np.arange(1,10)\n",
        "train_accuracy =np.empty(len(neighbors))\n",
        "test_accuracy = np.empty(len(neighbors))\n",
        "\n",
        "for i,k in enumerate(neighbors):\n",
        "    \n",
        "    model = KNeighborsClassifier(n_neighbors=k)\n",
        "    model.fit(X_train, y_train)\n",
        "\n",
        "    train_accuracy[i] = model.score(X_train, y_train)\n",
        "\n",
        "    test_accuracy[i] = model.score(X_test, y_test) "
      ],
      "execution_count": null,
      "outputs": []
    },
    {
      "cell_type": "code",
      "metadata": {
        "id": "Mv-fGuMFHDfS",
        "colab": {
          "base_uri": "https://localhost:8080/",
          "height": 379
        },
        "outputId": "9307ecf7-7446-4ac3-b112-64345bc56092"
      },
      "source": [
        "#plt.title('k')\n",
        "plt.plot(neighbors, test_accuracy, label='Testing Accuracy')\n",
        "plt.plot(neighbors, train_accuracy, label='Training accuracy')\n",
        "plt.legend()\n",
        "plt.xlabel('Number of neighbours')\n",
        "plt.ylabel('Accuracy')\n",
        "plt.show()"
      ],
      "execution_count": null,
      "outputs": [
        {
          "output_type": "display_data",
          "data": {
            "image/png": "[encoded data removed]",
            "text/plain": [
              "<Figure size 360x396 with 1 Axes>"
            ]
          },
          "metadata": {
            "tags": [],
            "needs_background": "light"
          }
        }
      ]
    },
    {
      "cell_type": "code",
      "metadata": {
        "colab": {
          "base_uri": "https://localhost:8080/"
        },
        "id": "RF9xAg1FXGUz",
        "outputId": "32c8b59f-f7bd-4f4c-9340-bf6d24c1e869"
      },
      "source": [
        "test_accuracy"
      ],
      "execution_count": null,
      "outputs": [
        {
          "output_type": "execute_result",
          "data": {
            "text/plain": [
              "array([0.76373626, 0.80769231, 0.76923077, 0.7967033 , 0.7967033 ,\n",
              "       0.80769231, 0.8021978 , 0.7967033 , 0.79120879])"
            ]
          },
          "metadata": {
            "tags": []
          },
          "execution_count": 320
        }
      ]
    },
    {
      "cell_type": "markdown",
      "metadata": {
        "id": "-hPuJL9hYOYY"
      },
      "source": [
        "K = 3 seems to be the best option, or k=5"
      ]
    },
    {
      "cell_type": "markdown",
      "metadata": {
        "id": "Cq73W7akXl_p"
      },
      "source": [
        "## running kNN"
      ]
    },
    {
      "cell_type": "code",
      "metadata": {
        "id": "3GUso1MS6JHV"
      },
      "source": [
        "import sklearn"
      ],
      "execution_count": null,
      "outputs": []
    },
    {
      "cell_type": "code",
      "metadata": {
        "colab": {
          "base_uri": "https://localhost:8080/"
        },
        "id": "JonDIyR36CVl",
        "outputId": "1f8eacb0-3e96-426a-891a-e34600171506"
      },
      "source": [
        "sorted(sklearn.neighbors.VALID_METRICS['brute'])"
      ],
      "execution_count": null,
      "outputs": [
        {
          "output_type": "execute_result",
          "data": {
            "text/plain": [
              "['braycurtis',\n",
              " 'canberra',\n",
              " 'chebyshev',\n",
              " 'cityblock',\n",
              " 'correlation',\n",
              " 'cosine',\n",
              " 'cosine',\n",
              " 'dice',\n",
              " 'euclidean',\n",
              " 'hamming',\n",
              " 'haversine',\n",
              " 'jaccard',\n",
              " 'kulsinski',\n",
              " 'l1',\n",
              " 'l2',\n",
              " 'mahalanobis',\n",
              " 'manhattan',\n",
              " 'matching',\n",
              " 'minkowski',\n",
              " 'nan_euclidean',\n",
              " 'precomputed',\n",
              " 'rogerstanimoto',\n",
              " 'russellrao',\n",
              " 'seuclidean',\n",
              " 'sokalmichener',\n",
              " 'sokalsneath',\n",
              " 'sqeuclidean',\n",
              " 'wminkowski',\n",
              " 'yule']"
            ]
          },
          "metadata": {
            "tags": []
          },
          "execution_count": 548
        }
      ]
    },
    {
      "cell_type": "code",
      "metadata": {
        "id": "4cAl21oLJWSn"
      },
      "source": [
        "maxIter = 30\n",
        "k=5\n",
        "ext=[0.0]*maxIter\n",
        "acc=[0.0]*maxIter\n",
        "f1s=[0.0]*maxIter\n",
        "mcc=[0.0]*maxIter\n",
        "\n",
        "for i in range(maxIter):\n",
        "\n",
        "    t0 = time.time()\n",
        "\n",
        "    model = KNeighborsClassifier(n_neighbors=k, metric='euclidean')\n",
        "    model.fit(X_train,y_train)\n",
        "\n",
        "    y_pred = model.predict(X_test)\n",
        "\n",
        "    t1 = time.time()\n",
        "\n",
        "    ext[i]=(t1-t0)\n",
        "    acc[i] = metrics.accuracy_score(y_test, y_pred)\n",
        "    f1s[i] = metrics.f1_score(y_test, y_pred)\n",
        "    mcc[i] = metrics.matthews_corrcoef(y_test, y_pred)"
      ],
      "execution_count": null,
      "outputs": []
    },
    {
      "cell_type": "code",
      "metadata": {
        "colab": {
          "base_uri": "https://localhost:8080/"
        },
        "id": "lkcIGHzNUhDs",
        "outputId": "1b08b96e-5f87-496f-e190-c80d3a01b968"
      },
      "source": [
        "model.classes_"
      ],
      "execution_count": null,
      "outputs": [
        {
          "output_type": "execute_result",
          "data": {
            "text/plain": [
              "array([0, 1])"
            ]
          },
          "metadata": {
            "tags": []
          },
          "execution_count": 550
        }
      ]
    },
    {
      "cell_type": "code",
      "metadata": {
        "colab": {
          "base_uri": "https://localhost:8080/"
        },
        "id": "fRjH8FzZUjJr",
        "outputId": "75a3ac7d-67ea-4a6b-df31-f1d90475f132"
      },
      "source": [
        "model.get_params"
      ],
      "execution_count": null,
      "outputs": [
        {
          "output_type": "execute_result",
          "data": {
            "text/plain": [
              "<bound method BaseEstimator.get_params of KNeighborsClassifier(algorithm='auto', leaf_size=30, metric='euclidean',\n",
              "                     metric_params=None, n_jobs=None, n_neighbors=5, p=2,\n",
              "                     weights='uniform')>"
            ]
          },
          "metadata": {
            "tags": []
          },
          "execution_count": 551
        }
      ]
    },
    {
      "cell_type": "markdown",
      "metadata": {
        "id": "_7DAglQtWv9u"
      },
      "source": [
        "## performance evaluation"
      ]
    },
    {
      "cell_type": "code",
      "metadata": {
        "colab": {
          "base_uri": "https://localhost:8080/"
        },
        "id": "CEeopP7wY3bk",
        "outputId": "d596d96c-b4bb-4f09-9f30-e6e193355805"
      },
      "source": [
        "print('KNN performance results for class',classe,'with k=',k)\n",
        "print(\"ExecTime mean:\",np.mean(ext))\n",
        "print(\"Accuracy mean:\",np.mean(acc))\n",
        "print(\"F1-Score mean:\",np.mean(f1s))\n",
        "print(\"Matthews Correlation mean:\",np.mean(mcc))\n",
        "\n",
        "print(\"\\nExecTime median:\",np.median(ext))\n",
        "print(\"Accuracy median:\",np.median(acc))\n",
        "print(\"F1-Score median:\",np.median(f1s))\n",
        "print(\"Matthews Correlation median:\",np.median(mcc))\n",
        "\n",
        "print(\"ExecTime Std:\",np.std(ext))\n",
        "print(\"Accuracy Std:\",np.std(acc))\n",
        "print(\"F1-Score Std:\",np.std(f1s))\n",
        "print(\"Matthews Correlation Std:\",np.std(mcc))"
      ],
      "execution_count": null,
      "outputs": [
        {
          "output_type": "stream",
          "text": [
            "KNN performance results for class CondSocialCirc with k= 5\n",
            "ExecTime mean: 0.01178284486134847\n",
            "Accuracy mean: 0.8351648351648353\n",
            "F1-Score mean: 0.21052631578947364\n",
            "Matthews Correlation mean: 0.21339465400830662\n",
            "\n",
            "ExecTime median: 0.011203765869140625\n",
            "Accuracy median: 0.8351648351648352\n",
            "F1-Score median: 0.2105263157894737\n",
            "Matthews Correlation median: 0.2133946540083067\n",
            "ExecTime Std: 0.0014703161194802323\n",
            "Accuracy Std: 1.1102230246251565e-16\n",
            "F1-Score Std: 5.551115123125783e-17\n",
            "Matthews Correlation Std: 8.326672684688674e-17\n"
          ],
          "name": "stdout"
        }
      ]
    },
    {
      "cell_type": "code",
      "metadata": {
        "colab": {
          "base_uri": "https://localhost:8080/"
        },
        "id": "W1JxOetIZLWR",
        "outputId": "289b52f9-781d-4367-c04a-1b3fc5fde0f4"
      },
      "source": [
        "print(ext, '\\n', acc,'\\n',f1s,'\\n', mcc)"
      ],
      "execution_count": null,
      "outputs": [
        {
          "output_type": "stream",
          "text": [
            "[0.015987873077392578, 0.01085352897644043, 0.011783123016357422, 0.0114898681640625, 0.013119697570800781, 0.010860204696655273, 0.01081228256225586, 0.011481523513793945, 0.010851383209228516, 0.012605428695678711, 0.0140380859375, 0.011058568954467773, 0.010709047317504883, 0.010902166366577148, 0.010803937911987305, 0.010798931121826172, 0.010978460311889648, 0.011002779006958008, 0.010841608047485352, 0.010752201080322266, 0.012341022491455078, 0.011375665664672852, 0.011178970336914062, 0.011150836944580078, 0.011479377746582031, 0.010791301727294922, 0.010758638381958008, 0.010785102844238281, 0.010965108871459961, 0.01074671745300293] \n",
            " [0.945054945054945, 0.945054945054945, 0.945054945054945, 0.945054945054945, 0.945054945054945, 0.945054945054945, 0.945054945054945, 0.945054945054945, 0.945054945054945, 0.945054945054945, 0.945054945054945, 0.945054945054945, 0.945054945054945, 0.945054945054945, 0.945054945054945, 0.945054945054945, 0.945054945054945, 0.945054945054945, 0.945054945054945, 0.945054945054945, 0.945054945054945, 0.945054945054945, 0.945054945054945, 0.945054945054945, 0.945054945054945, 0.945054945054945, 0.945054945054945, 0.945054945054945, 0.945054945054945, 0.945054945054945] \n",
            " [0.16666666666666669, 0.16666666666666669, 0.16666666666666669, 0.16666666666666669, 0.16666666666666669, 0.16666666666666669, 0.16666666666666669, 0.16666666666666669, 0.16666666666666669, 0.16666666666666669, 0.16666666666666669, 0.16666666666666669, 0.16666666666666669, 0.16666666666666669, 0.16666666666666669, 0.16666666666666669, 0.16666666666666669, 0.16666666666666669, 0.16666666666666669, 0.16666666666666669, 0.16666666666666669, 0.16666666666666669, 0.16666666666666669, 0.16666666666666669, 0.16666666666666669, 0.16666666666666669, 0.16666666666666669, 0.16666666666666669, 0.16666666666666669, 0.16666666666666669] \n",
            " [0.2058730699490163, 0.2058730699490163, 0.2058730699490163, 0.2058730699490163, 0.2058730699490163, 0.2058730699490163, 0.2058730699490163, 0.2058730699490163, 0.2058730699490163, 0.2058730699490163, 0.2058730699490163, 0.2058730699490163, 0.2058730699490163, 0.2058730699490163, 0.2058730699490163, 0.2058730699490163, 0.2058730699490163, 0.2058730699490163, 0.2058730699490163, 0.2058730699490163, 0.2058730699490163, 0.2058730699490163, 0.2058730699490163, 0.2058730699490163, 0.2058730699490163, 0.2058730699490163, 0.2058730699490163, 0.2058730699490163, 0.2058730699490163, 0.2058730699490163]\n"
          ],
          "name": "stdout"
        }
      ]
    },
    {
      "cell_type": "code",
      "metadata": {
        "id": "qzYkPvUkLpdv",
        "colab": {
          "base_uri": "https://localhost:8080/"
        },
        "outputId": "8aa2788e-826a-42c1-d3b9-4e56749dd881"
      },
      "source": [
        "metrics.confusion_matrix(y_test, y_pred).T"
      ],
      "execution_count": null,
      "outputs": [
        {
          "output_type": "execute_result",
          "data": {
            "text/plain": [
              "array([[148,  27],\n",
              "       [  3,   4]])"
            ]
          },
          "metadata": {
            "tags": []
          },
          "execution_count": 553
        }
      ]
    },
    {
      "cell_type": "code",
      "metadata": {
        "id": "0hMVGuNZA3QV"
      },
      "source": [
        "from matplotlib import rcParams\n",
        "#import seaborn as sns\n",
        "\n",
        "default_font_size = rcParams['font.size']\n",
        "rcParams['font.size'] = 20\n",
        "rcParams['axes.labelsize']=20\n",
        "rcParams['axes.titlesize']=20\n",
        "rcParams['figure.figsize'] =(5.0, 5.5)\n",
        "\n",
        "# ['Male','Female','Other']\n",
        "categ = ['No','Yes']"
      ],
      "execution_count": null,
      "outputs": []
    },
    {
      "cell_type": "code",
      "metadata": {
        "colab": {
          "base_uri": "https://localhost:8080/",
          "height": 376
        },
        "id": "yXy5j5B_xMkL",
        "outputId": "e4d4528c-1d7c-40c0-a2e7-7890a45a70ae"
      },
      "source": [
        "mat = metrics.confusion_matrix(y_test, y_pred)\n",
        "#plt.figure(figsize=(3,3))\n",
        "sns.heatmap(mat.T, square=True, annot=True, fmt='d', cbar=False,\n",
        "            xticklabels=categ, yticklabels=categ)\n",
        "\n",
        "plt.tick_params(labelsize=15)\n",
        "plt.title(classe)\n",
        "\n",
        "plt.xlabel('true label')\n",
        "plt.ylabel('predicted label')\n",
        "plt.show()"
      ],
      "execution_count": null,
      "outputs": [
        {
          "output_type": "display_data",
          "data": {
            "image/png": "[encoded data removed]",
            "text/plain": [
              "<Figure size 360x396 with 1 Axes>"
            ]
          },
          "metadata": {
            "tags": [],
            "needs_background": "light"
          }
        }
      ]
    },
    {
      "cell_type": "code",
      "metadata": {
        "id": "mHJ_kodILqvs",
        "colab": {
          "base_uri": "https://localhost:8080/",
          "height": 173
        },
        "outputId": "a6c9ea51-c36e-475c-c026-b21a17e70a0b"
      },
      "source": [
        "pd.crosstab(y_test, y_pred, rownames=['True'], colnames=['Predicted'], margins=True, normalize=True)"
      ],
      "execution_count": null,
      "outputs": [
        {
          "output_type": "execute_result",
          "data": {
            "text/html": [
              "<div>\n",
              "<style scoped>\n",
              "    .dataframe tbody tr th:only-of-type {\n",
              "        vertical-align: middle;\n",
              "    }\n",
              "\n",
              "    .dataframe tbody tr th {\n",
              "        vertical-align: top;\n",
              "    }\n",
              "\n",
              "    .dataframe thead th {\n",
              "        text-align: right;\n",
              "    }\n",
              "</style>\n",
              "<table border=\"1\" class=\"dataframe\">\n",
              "  <thead>\n",
              "    <tr style=\"text-align: right;\">\n",
              "      <th>Predicted</th>\n",
              "      <th>0</th>\n",
              "      <th>1</th>\n",
              "      <th>All</th>\n",
              "    </tr>\n",
              "    <tr>\n",
              "      <th>True</th>\n",
              "      <th></th>\n",
              "      <th></th>\n",
              "      <th></th>\n",
              "    </tr>\n",
              "  </thead>\n",
              "  <tbody>\n",
              "    <tr>\n",
              "      <th>0</th>\n",
              "      <td>0.939560</td>\n",
              "      <td>0.005495</td>\n",
              "      <td>0.945055</td>\n",
              "    </tr>\n",
              "    <tr>\n",
              "      <th>1</th>\n",
              "      <td>0.049451</td>\n",
              "      <td>0.005495</td>\n",
              "      <td>0.054945</td>\n",
              "    </tr>\n",
              "    <tr>\n",
              "      <th>All</th>\n",
              "      <td>0.989011</td>\n",
              "      <td>0.010989</td>\n",
              "      <td>1.000000</td>\n",
              "    </tr>\n",
              "  </tbody>\n",
              "</table>\n",
              "</div>"
            ],
            "text/plain": [
              "Predicted         0         1       All\n",
              "True                                   \n",
              "0          0.939560  0.005495  0.945055\n",
              "1          0.049451  0.005495  0.054945\n",
              "All        0.989011  0.010989  1.000000"
            ]
          },
          "metadata": {
            "tags": []
          },
          "execution_count": 48
        }
      ]
    },
    {
      "cell_type": "code",
      "metadata": {
        "id": "8jGL7cQzWXYo"
      },
      "source": [
        "#print(classification_report(y_test,y_pred))"
      ],
      "execution_count": null,
      "outputs": []
    },
    {
      "cell_type": "markdown",
      "metadata": {
        "id": "caDB4AtdXQuj"
      },
      "source": [
        "## ROC Curve\n",
        "\n",
        "search or discard??"
      ]
    },
    {
      "cell_type": "code",
      "metadata": {
        "id": "-0zqIooQW-KV"
      },
      "source": [
        "y_pred_proba = model.predict_proba(X_test)[:,1]"
      ],
      "execution_count": null,
      "outputs": []
    },
    {
      "cell_type": "code",
      "metadata": {
        "id": "wGbs0J5BXWGr"
      },
      "source": [
        "fpr, tpr, thresholds = metrics.roc_curve(y_test, y_pred_proba)\n"
      ],
      "execution_count": null,
      "outputs": []
    },
    {
      "cell_type": "code",
      "metadata": {
        "id": "uakHJxiHXWdq",
        "colab": {
          "base_uri": "https://localhost:8080/",
          "height": 295
        },
        "outputId": "87c92062-fed4-4be3-ffaf-7c1c35954577"
      },
      "source": [
        "plt.plot([0,1],[0,1],'k--')\n",
        "plt.plot(fpr,tpr, label='Knn')\n",
        "plt.xlabel('fpr')\n",
        "plt.ylabel('tpr')\n",
        "plt.title('Knn(n_neighbors=7) ROC curve')\n",
        "plt.show()"
      ],
      "execution_count": null,
      "outputs": [
        {
          "output_type": "display_data",
          "data": {
            "image/png": "[encoded data removed]",
            "text/plain": [
              "<Figure size 432x288 with 1 Axes>"
            ]
          },
          "metadata": {
            "tags": [],
            "needs_background": "light"
          }
        }
      ]
    },
    {
      "cell_type": "code",
      "metadata": {
        "id": "DhtZjWAKY-f1",
        "colab": {
          "base_uri": "https://localhost:8080/"
        },
        "outputId": "38bb204c-40ef-4ee9-d73a-b53d2bcf668d"
      },
      "source": [
        "#Area under ROC curve\n",
        "\n",
        "metrics.roc_auc_score(y_test,y_pred_proba)"
      ],
      "execution_count": null,
      "outputs": [
        {
          "output_type": "execute_result",
          "data": {
            "text/plain": [
              "0.6966547192353644"
            ]
          },
          "metadata": {
            "tags": []
          },
          "execution_count": 28
        }
      ]
    },
    {
      "cell_type": "markdown",
      "metadata": {
        "id": "P-F1UVqtZMXM"
      },
      "source": [
        "## Hyperparameter tuning\n",
        "\n",
        "search or dicard??"
      ]
    },
    {
      "cell_type": "code",
      "metadata": {
        "id": "3lCOVY7uZC7B"
      },
      "source": [
        "#import GridSearchCV\n",
        "from sklearn.model_selection import GridSearchCV"
      ],
      "execution_count": null,
      "outputs": []
    },
    {
      "cell_type": "code",
      "metadata": {
        "id": "JYe8JN0xZQLB"
      },
      "source": [
        "param_grid = {'n_neighbors':np.arange(1,25)}\n"
      ],
      "execution_count": null,
      "outputs": []
    },
    {
      "cell_type": "code",
      "metadata": {
        "id": "IePcBcFXZe6N",
        "colab": {
          "base_uri": "https://localhost:8080/"
        },
        "outputId": "04cead78-bffd-4264-83cf-661c1052a457"
      },
      "source": [
        "knn = KNeighborsClassifier(metric='euclidean')\n",
        "knn_cv= GridSearchCV(knn,param_grid,cv=5)\n",
        "knn_cv.fit(X,y)"
      ],
      "execution_count": null,
      "outputs": [
        {
          "output_type": "execute_result",
          "data": {
            "text/plain": [
              "GridSearchCV(cv=5, error_score=nan,\n",
              "             estimator=KNeighborsClassifier(algorithm='auto', leaf_size=30,\n",
              "                                            metric='euclidean',\n",
              "                                            metric_params=None, n_jobs=None,\n",
              "                                            n_neighbors=5, p=2,\n",
              "                                            weights='uniform'),\n",
              "             iid='deprecated', n_jobs=None,\n",
              "             param_grid={'n_neighbors': array([ 1,  2,  3,  4,  5,  6,  7,  8,  9, 10, 11, 12, 13, 14, 15, 16, 17,\n",
              "       18, 19, 20, 21, 22, 23, 24])},\n",
              "             pre_dispatch='2*n_jobs', refit=True, return_train_score=False,\n",
              "             scoring=None, verbose=0)"
            ]
          },
          "metadata": {
            "tags": []
          },
          "execution_count": 61
        }
      ]
    },
    {
      "cell_type": "code",
      "metadata": {
        "id": "qHv2b5jvZfag",
        "colab": {
          "base_uri": "https://localhost:8080/"
        },
        "outputId": "a8cf2a80-94e9-4284-dd8a-ff846bd4e8c4"
      },
      "source": [
        "knn_cv.best_score_\n"
      ],
      "execution_count": null,
      "outputs": [
        {
          "output_type": "execute_result",
          "data": {
            "text/plain": [
              "0.9339926839181685"
            ]
          },
          "metadata": {
            "tags": []
          },
          "execution_count": 62
        }
      ]
    },
    {
      "cell_type": "code",
      "metadata": {
        "id": "HFp9PKAPZkLm",
        "colab": {
          "base_uri": "https://localhost:8080/"
        },
        "outputId": "f45d1c15-9a6f-49eb-928c-117cf309b568"
      },
      "source": [
        "knn_cv.best_params_\n"
      ],
      "execution_count": null,
      "outputs": [
        {
          "output_type": "execute_result",
          "data": {
            "text/plain": [
              "{'n_neighbors': 6}"
            ]
          },
          "metadata": {
            "tags": []
          },
          "execution_count": 63
        }
      ]
    }
  ]
}