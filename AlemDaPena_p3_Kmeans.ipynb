{
  "nbformat": 4,
  "nbformat_minor": 0,
  "metadata": {
    "colab": {
      "name": "AlemDaPena p3 Kmeans.ipynb",
      "provenance": [],
      "collapsed_sections": [
        "pTBB4lq5ePew",
        "cHve3k6ceeVc",
        "lw3ZvdinIXGj"
      ],
      "machine_shape": "hm",
      "include_colab_link": true
    },
    "kernelspec": {
      "name": "python3",
      "display_name": "Python 3"
    }
  },
  "cells": [
    {
      "cell_type": "markdown",
      "metadata": {
        "id": "view-in-github",
        "colab_type": "text"
      },
      "source": [
        "<a href=\"https://colab.research.google.com/github/bruno774/mestrado/blob/master/AlemDaPena_p3_Kmeans.ipynb\" target=\"_parent\"><img src=\"https://colab.research.google.com/assets/colab-badge.svg\" alt=\"Open In Colab\"/></a>"
      ]
    },
    {
      "cell_type": "markdown",
      "metadata": {
        "id": "_n7m5JKX39Ij"
      },
      "source": [
        "## preliminaries"
      ]
    },
    {
      "cell_type": "code",
      "metadata": {
        "id": "BXBiWtyz39Ik"
      },
      "source": [
        "import pandas as pd\n",
        "import numpy as np\n",
        "import time\n",
        "import matplotlib.pyplot as plt\n"
      ],
      "execution_count": 1,
      "outputs": []
    },
    {
      "cell_type": "code",
      "metadata": {
        "id": "W7Tcb-iDyvFs"
      },
      "source": [
        "from sklearn.cluster import KMeans\n",
        "from sklearn import metrics\n"
      ],
      "execution_count": 2,
      "outputs": []
    },
    {
      "cell_type": "code",
      "metadata": {
        "colab": {
          "base_uri": "https://localhost:8080/"
        },
        "id": "G7jOSDrDkzXB",
        "outputId": "f2921bb0-17b0-4e7d-a23a-b46c247ccb55"
      },
      "source": [
        "!pip show scikit-learn\n"
      ],
      "execution_count": 8,
      "outputs": [
        {
          "output_type": "stream",
          "text": [
            "Name: scikit-learn\n",
            "Version: 0.22.2.post1\n",
            "Summary: A set of python modules for machine learning and data mining\n",
            "Home-page: http://scikit-learn.org\n",
            "Author: None\n",
            "Author-email: None\n",
            "License: new BSD\n",
            "Location: /usr/local/lib/python3.7/dist-packages\n",
            "Requires: scipy, numpy, joblib\n",
            "Required-by: yellowbrick, sklearn, sklearn-pandas, mlxtend, lightgbm, librosa, imbalanced-learn\n"
          ],
          "name": "stdout"
        }
      ]
    },
    {
      "cell_type": "code",
      "metadata": {
        "id": "8MAayOShyccE"
      },
      "source": [
        "data_src = pd.read_pickle('alemPena-p2.pickle')"
      ],
      "execution_count": null,
      "outputs": []
    },
    {
      "cell_type": "code",
      "metadata": {
        "id": "j12FmUun39Il"
      },
      "source": [
        "data_num = data_src.to_numpy()"
      ],
      "execution_count": null,
      "outputs": []
    },
    {
      "cell_type": "markdown",
      "metadata": {
        "id": "qE1Cl9oC39Il"
      },
      "source": [
        "## finding best K for k-means"
      ]
    },
    {
      "cell_type": "code",
      "metadata": {
        "id": "VNkL5w5N0JvE",
        "colab": {
          "base_uri": "https://localhost:8080/"
        },
        "outputId": "529d1059-89ac-4d54-ffe6-80d3e6c4df7a"
      },
      "source": [
        "from yellowbrick.cluster import KElbowVisualizer"
      ],
      "execution_count": 3,
      "outputs": [
        {
          "output_type": "stream",
          "text": [
            "/usr/local/lib/python3.7/dist-packages/sklearn/utils/deprecation.py:144: FutureWarning: The sklearn.metrics.classification module is  deprecated in version 0.22 and will be removed in version 0.24. The corresponding classes / functions should instead be imported from sklearn.metrics. Anything that cannot be imported from sklearn.metrics is now part of the private API.\n",
            "  warnings.warn(message, FutureWarning)\n"
          ],
          "name": "stderr"
        }
      ]
    },
    {
      "cell_type": "code",
      "metadata": {
        "colab": {
          "base_uri": "https://localhost:8080/",
          "height": 1000
        },
        "id": "m0eTlw3e39Im",
        "outputId": "2eb51a2f-cc8b-49d0-e0db-eaa6a0d40b02"
      },
      "source": [
        "#https://www.scikit-yb.org/en/latest/api/cluster/elbow.html\n",
        "\n",
        "model=KMeans()\n",
        "visualizer = KElbowVisualizer(model, k=20, metric='calinski_harabaz')\n",
        "\n",
        "visualizer.fit(data_src)\n",
        "visualizer.draw()\n",
        "#visualizer.show()"
      ],
      "execution_count": null,
      "outputs": [
        {
          "output_type": "stream",
          "text": [
            "/usr/local/lib/python3.7/dist-packages/sklearn/utils/deprecation.py:87: FutureWarning: Function calinski_harabaz_score is deprecated; Function 'calinski_harabaz_score' has been renamed to 'calinski_harabasz_score' and will be removed in version 0.23.\n",
            "  warnings.warn(msg, category=FutureWarning)\n",
            "/usr/local/lib/python3.7/dist-packages/sklearn/utils/deprecation.py:87: FutureWarning: Function calinski_harabaz_score is deprecated; Function 'calinski_harabaz_score' has been renamed to 'calinski_harabasz_score' and will be removed in version 0.23.\n",
            "  warnings.warn(msg, category=FutureWarning)\n",
            "/usr/local/lib/python3.7/dist-packages/sklearn/utils/deprecation.py:87: FutureWarning: Function calinski_harabaz_score is deprecated; Function 'calinski_harabaz_score' has been renamed to 'calinski_harabasz_score' and will be removed in version 0.23.\n",
            "  warnings.warn(msg, category=FutureWarning)\n",
            "/usr/local/lib/python3.7/dist-packages/sklearn/utils/deprecation.py:87: FutureWarning: Function calinski_harabaz_score is deprecated; Function 'calinski_harabaz_score' has been renamed to 'calinski_harabasz_score' and will be removed in version 0.23.\n",
            "  warnings.warn(msg, category=FutureWarning)\n",
            "/usr/local/lib/python3.7/dist-packages/sklearn/utils/deprecation.py:87: FutureWarning: Function calinski_harabaz_score is deprecated; Function 'calinski_harabaz_score' has been renamed to 'calinski_harabasz_score' and will be removed in version 0.23.\n",
            "  warnings.warn(msg, category=FutureWarning)\n",
            "/usr/local/lib/python3.7/dist-packages/sklearn/utils/deprecation.py:87: FutureWarning: Function calinski_harabaz_score is deprecated; Function 'calinski_harabaz_score' has been renamed to 'calinski_harabasz_score' and will be removed in version 0.23.\n",
            "  warnings.warn(msg, category=FutureWarning)\n",
            "/usr/local/lib/python3.7/dist-packages/sklearn/utils/deprecation.py:87: FutureWarning: Function calinski_harabaz_score is deprecated; Function 'calinski_harabaz_score' has been renamed to 'calinski_harabasz_score' and will be removed in version 0.23.\n",
            "  warnings.warn(msg, category=FutureWarning)\n",
            "/usr/local/lib/python3.7/dist-packages/sklearn/utils/deprecation.py:87: FutureWarning: Function calinski_harabaz_score is deprecated; Function 'calinski_harabaz_score' has been renamed to 'calinski_harabasz_score' and will be removed in version 0.23.\n",
            "  warnings.warn(msg, category=FutureWarning)\n",
            "/usr/local/lib/python3.7/dist-packages/sklearn/utils/deprecation.py:87: FutureWarning: Function calinski_harabaz_score is deprecated; Function 'calinski_harabaz_score' has been renamed to 'calinski_harabasz_score' and will be removed in version 0.23.\n",
            "  warnings.warn(msg, category=FutureWarning)\n",
            "/usr/local/lib/python3.7/dist-packages/sklearn/utils/deprecation.py:87: FutureWarning: Function calinski_harabaz_score is deprecated; Function 'calinski_harabaz_score' has been renamed to 'calinski_harabasz_score' and will be removed in version 0.23.\n",
            "  warnings.warn(msg, category=FutureWarning)\n",
            "/usr/local/lib/python3.7/dist-packages/sklearn/utils/deprecation.py:87: FutureWarning: Function calinski_harabaz_score is deprecated; Function 'calinski_harabaz_score' has been renamed to 'calinski_harabasz_score' and will be removed in version 0.23.\n",
            "  warnings.warn(msg, category=FutureWarning)\n",
            "/usr/local/lib/python3.7/dist-packages/sklearn/utils/deprecation.py:87: FutureWarning: Function calinski_harabaz_score is deprecated; Function 'calinski_harabaz_score' has been renamed to 'calinski_harabasz_score' and will be removed in version 0.23.\n",
            "  warnings.warn(msg, category=FutureWarning)\n",
            "/usr/local/lib/python3.7/dist-packages/sklearn/utils/deprecation.py:87: FutureWarning: Function calinski_harabaz_score is deprecated; Function 'calinski_harabaz_score' has been renamed to 'calinski_harabasz_score' and will be removed in version 0.23.\n",
            "  warnings.warn(msg, category=FutureWarning)\n",
            "/usr/local/lib/python3.7/dist-packages/sklearn/utils/deprecation.py:87: FutureWarning: Function calinski_harabaz_score is deprecated; Function 'calinski_harabaz_score' has been renamed to 'calinski_harabasz_score' and will be removed in version 0.23.\n",
            "  warnings.warn(msg, category=FutureWarning)\n",
            "/usr/local/lib/python3.7/dist-packages/sklearn/utils/deprecation.py:87: FutureWarning: Function calinski_harabaz_score is deprecated; Function 'calinski_harabaz_score' has been renamed to 'calinski_harabasz_score' and will be removed in version 0.23.\n",
            "  warnings.warn(msg, category=FutureWarning)\n",
            "/usr/local/lib/python3.7/dist-packages/sklearn/utils/deprecation.py:87: FutureWarning: Function calinski_harabaz_score is deprecated; Function 'calinski_harabaz_score' has been renamed to 'calinski_harabasz_score' and will be removed in version 0.23.\n",
            "  warnings.warn(msg, category=FutureWarning)\n",
            "/usr/local/lib/python3.7/dist-packages/sklearn/utils/deprecation.py:87: FutureWarning: Function calinski_harabaz_score is deprecated; Function 'calinski_harabaz_score' has been renamed to 'calinski_harabasz_score' and will be removed in version 0.23.\n",
            "  warnings.warn(msg, category=FutureWarning)\n",
            "/usr/local/lib/python3.7/dist-packages/sklearn/utils/deprecation.py:87: FutureWarning: Function calinski_harabaz_score is deprecated; Function 'calinski_harabaz_score' has been renamed to 'calinski_harabasz_score' and will be removed in version 0.23.\n",
            "  warnings.warn(msg, category=FutureWarning)\n",
            "/usr/local/lib/python3.7/dist-packages/sklearn/utils/deprecation.py:87: FutureWarning: Function calinski_harabaz_score is deprecated; Function 'calinski_harabaz_score' has been renamed to 'calinski_harabasz_score' and will be removed in version 0.23.\n",
            "  warnings.warn(msg, category=FutureWarning)\n"
          ],
          "name": "stderr"
        },
        {
          "output_type": "execute_result",
          "data": {
            "text/plain": [
              "<matplotlib.axes._subplots.AxesSubplot at 0x7f7a630e67d0>"
            ]
          },
          "metadata": {
            "tags": []
          },
          "execution_count": 8
        },
        {
          "output_type": "display_data",
          "data": {
            "image/png": "[encoded data removed]",
            "text/plain": [
              "<Figure size 576x396 with 3 Axes>"
            ]
          },
          "metadata": {
            "tags": []
          }
        }
      ]
    },
    {
      "cell_type": "markdown",
      "metadata": {
        "id": "wtBaGVE439Im"
      },
      "source": [
        "## dimension reduction with PCA"
      ]
    },
    {
      "cell_type": "code",
      "metadata": {
        "id": "jFfWKtqp39In"
      },
      "source": [
        "#pcav = PCA().fit(data_src)\n",
        "#plt.plot(np.cumsum(pcav.explained_variance_ratio_))"
      ],
      "execution_count": null,
      "outputs": []
    },
    {
      "cell_type": "markdown",
      "metadata": {
        "id": "PH3aQpbj39In"
      },
      "source": [
        "De acordo com o gráfico acima, que ilustra a evolução da representatividade da quantidade de autovetores usados para descrever um conjunto de dados (representados no eixo X), identifica que acima de 15 autovetores a representação do domínio original atinge valores maiores q cerca de 90% da informação representada."
      ]
    },
    {
      "cell_type": "markdown",
      "metadata": {
        "id": "ERy3-Qgk39In"
      },
      "source": [
        "\"Principal component analysis (PCA).\n",
        "\n",
        "Linear dimensionality reduction using Singular Value Decomposition of the\n",
        "data to project it to a lower dimensional space. The input data is centered\n",
        "but not scaled for each feature before applying the SVD.\n",
        "\n",
        "It uses the LAPACK implementation of the full SVD or a randomized truncated\n",
        "SVD by the method of Halko et al. 2009, depending on the shape of the input\n",
        "data and the number of components to extract.\""
      ]
    },
    {
      "cell_type": "code",
      "metadata": {
        "id": "kHqCv6x539Io"
      },
      "source": [
        "#pca = PCA(n_components=31)\n",
        "#pca_src = pca.fit_transform(data_src)"
      ],
      "execution_count": null,
      "outputs": []
    },
    {
      "cell_type": "markdown",
      "metadata": {
        "id": "mhYdLOC00r53"
      },
      "source": [
        "Estratégia descartada dado a grande quantidade de atributos que, pelos critérios de representatividade, seriam necessários para estar acima de 80% da significância incluiriam mais de 20 colunas"
      ]
    },
    {
      "cell_type": "markdown",
      "metadata": {
        "id": "NfZ26_T73e71"
      },
      "source": [
        "## K-means"
      ]
    },
    {
      "cell_type": "code",
      "metadata": {
        "id": "3BhMKMa23e71"
      },
      "source": [
        "from scipy.spatial import distance"
      ],
      "execution_count": 4,
      "outputs": []
    },
    {
      "cell_type": "code",
      "metadata": {
        "id": "fbqiu_WE3e72"
      },
      "source": [
        "class Kmeansv2():\n",
        "    def __init__(self, k=3, tos=0.0001, n_iter=300):\n",
        "        self.k = k\n",
        "        self.tos = tos\n",
        "        self.n_iter = n_iter\n",
        "\n",
        "    def fit(self, data, n_iter=300, tos = 0.0001):\n",
        "        self.centroids = {}\n",
        "        for i in range(self.k):\n",
        "            self.centroids[i] = data[i]\n",
        "\n",
        "        for i in range(n_iter):\n",
        "            self.clusters = {}\n",
        "            for i in range(self.k):\n",
        "                self.clusters[i] = []\n",
        "        \n",
        "            #vrow=[1,1]\n",
        "            # distance measure for each point\n",
        "            for row in data:\n",
        "                #distances = [np.linalg.norm(row - self.centroids[centroid]) for centroid in self.centroids]\n",
        "                #distances = [distance.chebyshev(row, self.centroids[centroid]) for centroid in self.centroids]\n",
        "                distances = [distance.chebyshev(row, self.centroids[centroid]) for centroid in self.centroids]\n",
        "                cluster = distances.index(min(distances))\n",
        "                self.clusters[cluster].append(row)\n",
        "\n",
        "            previous_centroids = dict(self.centroids)\n",
        "            for cluster in self.clusters:\n",
        "                self.centroids[cluster] = np.average(self.clusters[cluster], axis=0)\n",
        "\n",
        "            # Check if tolerance was reached\n",
        "            centroids_changed = True\n",
        "            for centroid in self.centroids:\n",
        "                difference = np.sum((self.centroids[centroid] - previous_centroids[centroid])/previous_centroids[centroid]*100.0)               \n",
        "                if  difference > tos:\n",
        "                    centroids_changed = False\n",
        "\n",
        "            if centroids_changed:\n",
        "                break\n",
        "\n",
        "    def predict(self, data):\n",
        "        distances = [distance.chebyshev(data, self.centroids[centroid]) for centroid in self.centroids]\n",
        "        cluster = distances.index(min(distances))\n",
        "        return cluster"
      ],
      "execution_count": null,
      "outputs": []
    },
    {
      "cell_type": "markdown",
      "metadata": {
        "id": "w-mwWjrS3e73"
      },
      "source": [
        "## multiple running for statistical analysis"
      ]
    },
    {
      "cell_type": "code",
      "metadata": {
        "id": "CYi5SpqqNYG1"
      },
      "source": [
        "# chebyshev cityblock cosine euclidean hamming jaccard mahalanobis minkowski\n",
        "hcMetric='chebyshev'\n",
        "# GeneroReu ou CondSocialCirc\n",
        "hcClasse='CondSocialCirc'"
      ],
      "execution_count": null,
      "outputs": []
    },
    {
      "cell_type": "code",
      "metadata": {
        "id": "ws63m25v1dC7"
      },
      "source": [
        "maxIter = 30\n",
        "\n",
        "ext=[0.0]*maxIter\n",
        "acc=[0.0]*maxIter\n",
        "arc=[0.0]*maxIter\n",
        "sls=[0.0]*maxIter\n",
        "chs=[0.0]*maxIter\n",
        "mis=[0.0]*maxIter\n",
        "fms=[0.0]*maxIter"
      ],
      "execution_count": null,
      "outputs": []
    },
    {
      "cell_type": "code",
      "metadata": {
        "colab": {
          "base_uri": "https://localhost:8080/"
        },
        "id": "5Ucdcgik3e75",
        "outputId": "908d05dc-b301-4ef0-d26a-687b3cad3f42"
      },
      "source": [
        "\n",
        "for i in range(maxIter):  \n",
        "    t0 = time.time()\n",
        "    model = Kmeansv2(k=3)\n",
        "    model.fit(data_num, n_iter=300, tos=0.0001)\n",
        "    cluster_distance = model.clusters\n",
        "\n",
        "    cluster_labels_predict=[]\n",
        "    for pdt in data_num:\n",
        "        cluster_labels_predict.append(model.predict(pdt))\n",
        "    \n",
        "    t1 = time.time()\n",
        "    ext[i]=(t1-t0)\n",
        "    \n",
        "    acc[i]=metrics.accuracy_score(data_src[hcClasse], cluster_labels_predict)\n",
        "    arc[i]=metrics.adjusted_rand_score(data_src[hcClasse], cluster_labels_predict)\n",
        "    sls[i]=metrics.silhouette_score(data_src, cluster_labels_predict, metric=hcMetric)\n",
        "    chs[i]=metrics.calinski_harabasz_score(data_src, cluster_labels_predict)\n",
        "    mis[i]=metrics.mutual_info_score(data_src[hcClasse], cluster_labels_predict)\n",
        "    fms[i]=metrics.fowlkes_mallows_score(data_src[hcClasse], cluster_labels_predict)\n"
      ],
      "execution_count": null,
      "outputs": [
        {
          "output_type": "stream",
          "text": [
            "/usr/local/lib/python3.7/dist-packages/ipykernel_launcher.py:33: RuntimeWarning: divide by zero encountered in true_divide\n",
            "/usr/local/lib/python3.7/dist-packages/ipykernel_launcher.py:33: RuntimeWarning: invalid value encountered in true_divide\n",
            "/usr/local/lib/python3.7/dist-packages/ipykernel_launcher.py:33: RuntimeWarning: divide by zero encountered in true_divide\n",
            "/usr/local/lib/python3.7/dist-packages/ipykernel_launcher.py:33: RuntimeWarning: invalid value encountered in true_divide\n",
            "/usr/local/lib/python3.7/dist-packages/ipykernel_launcher.py:33: RuntimeWarning: divide by zero encountered in true_divide\n",
            "/usr/local/lib/python3.7/dist-packages/ipykernel_launcher.py:33: RuntimeWarning: invalid value encountered in true_divide\n",
            "/usr/local/lib/python3.7/dist-packages/ipykernel_launcher.py:33: RuntimeWarning: divide by zero encountered in true_divide\n",
            "/usr/local/lib/python3.7/dist-packages/ipykernel_launcher.py:33: RuntimeWarning: invalid value encountered in true_divide\n",
            "/usr/local/lib/python3.7/dist-packages/ipykernel_launcher.py:33: RuntimeWarning: divide by zero encountered in true_divide\n",
            "/usr/local/lib/python3.7/dist-packages/ipykernel_launcher.py:33: RuntimeWarning: invalid value encountered in true_divide\n",
            "/usr/local/lib/python3.7/dist-packages/ipykernel_launcher.py:33: RuntimeWarning: divide by zero encountered in true_divide\n",
            "/usr/local/lib/python3.7/dist-packages/ipykernel_launcher.py:33: RuntimeWarning: invalid value encountered in true_divide\n",
            "/usr/local/lib/python3.7/dist-packages/ipykernel_launcher.py:33: RuntimeWarning: divide by zero encountered in true_divide\n",
            "/usr/local/lib/python3.7/dist-packages/ipykernel_launcher.py:33: RuntimeWarning: invalid value encountered in true_divide\n",
            "/usr/local/lib/python3.7/dist-packages/ipykernel_launcher.py:33: RuntimeWarning: divide by zero encountered in true_divide\n",
            "/usr/local/lib/python3.7/dist-packages/ipykernel_launcher.py:33: RuntimeWarning: invalid value encountered in true_divide\n",
            "/usr/local/lib/python3.7/dist-packages/ipykernel_launcher.py:33: RuntimeWarning: divide by zero encountered in true_divide\n",
            "/usr/local/lib/python3.7/dist-packages/ipykernel_launcher.py:33: RuntimeWarning: invalid value encountered in true_divide\n",
            "/usr/local/lib/python3.7/dist-packages/ipykernel_launcher.py:33: RuntimeWarning: divide by zero encountered in true_divide\n",
            "/usr/local/lib/python3.7/dist-packages/ipykernel_launcher.py:33: RuntimeWarning: invalid value encountered in true_divide\n",
            "/usr/local/lib/python3.7/dist-packages/ipykernel_launcher.py:33: RuntimeWarning: divide by zero encountered in true_divide\n",
            "/usr/local/lib/python3.7/dist-packages/ipykernel_launcher.py:33: RuntimeWarning: invalid value encountered in true_divide\n",
            "/usr/local/lib/python3.7/dist-packages/ipykernel_launcher.py:33: RuntimeWarning: divide by zero encountered in true_divide\n",
            "/usr/local/lib/python3.7/dist-packages/ipykernel_launcher.py:33: RuntimeWarning: invalid value encountered in true_divide\n",
            "/usr/local/lib/python3.7/dist-packages/ipykernel_launcher.py:33: RuntimeWarning: divide by zero encountered in true_divide\n",
            "/usr/local/lib/python3.7/dist-packages/ipykernel_launcher.py:33: RuntimeWarning: invalid value encountered in true_divide\n",
            "/usr/local/lib/python3.7/dist-packages/ipykernel_launcher.py:33: RuntimeWarning: divide by zero encountered in true_divide\n",
            "/usr/local/lib/python3.7/dist-packages/ipykernel_launcher.py:33: RuntimeWarning: invalid value encountered in true_divide\n",
            "/usr/local/lib/python3.7/dist-packages/ipykernel_launcher.py:33: RuntimeWarning: divide by zero encountered in true_divide\n",
            "/usr/local/lib/python3.7/dist-packages/ipykernel_launcher.py:33: RuntimeWarning: invalid value encountered in true_divide\n",
            "/usr/local/lib/python3.7/dist-packages/ipykernel_launcher.py:33: RuntimeWarning: divide by zero encountered in true_divide\n",
            "/usr/local/lib/python3.7/dist-packages/ipykernel_launcher.py:33: RuntimeWarning: invalid value encountered in true_divide\n",
            "/usr/local/lib/python3.7/dist-packages/ipykernel_launcher.py:33: RuntimeWarning: divide by zero encountered in true_divide\n",
            "/usr/local/lib/python3.7/dist-packages/ipykernel_launcher.py:33: RuntimeWarning: invalid value encountered in true_divide\n",
            "/usr/local/lib/python3.7/dist-packages/ipykernel_launcher.py:33: RuntimeWarning: divide by zero encountered in true_divide\n",
            "/usr/local/lib/python3.7/dist-packages/ipykernel_launcher.py:33: RuntimeWarning: invalid value encountered in true_divide\n",
            "/usr/local/lib/python3.7/dist-packages/ipykernel_launcher.py:33: RuntimeWarning: divide by zero encountered in true_divide\n",
            "/usr/local/lib/python3.7/dist-packages/ipykernel_launcher.py:33: RuntimeWarning: invalid value encountered in true_divide\n",
            "/usr/local/lib/python3.7/dist-packages/ipykernel_launcher.py:33: RuntimeWarning: divide by zero encountered in true_divide\n",
            "/usr/local/lib/python3.7/dist-packages/ipykernel_launcher.py:33: RuntimeWarning: invalid value encountered in true_divide\n",
            "/usr/local/lib/python3.7/dist-packages/ipykernel_launcher.py:33: RuntimeWarning: divide by zero encountered in true_divide\n",
            "/usr/local/lib/python3.7/dist-packages/ipykernel_launcher.py:33: RuntimeWarning: invalid value encountered in true_divide\n",
            "/usr/local/lib/python3.7/dist-packages/ipykernel_launcher.py:33: RuntimeWarning: divide by zero encountered in true_divide\n",
            "/usr/local/lib/python3.7/dist-packages/ipykernel_launcher.py:33: RuntimeWarning: invalid value encountered in true_divide\n",
            "/usr/local/lib/python3.7/dist-packages/ipykernel_launcher.py:33: RuntimeWarning: divide by zero encountered in true_divide\n",
            "/usr/local/lib/python3.7/dist-packages/ipykernel_launcher.py:33: RuntimeWarning: invalid value encountered in true_divide\n",
            "/usr/local/lib/python3.7/dist-packages/ipykernel_launcher.py:33: RuntimeWarning: divide by zero encountered in true_divide\n",
            "/usr/local/lib/python3.7/dist-packages/ipykernel_launcher.py:33: RuntimeWarning: invalid value encountered in true_divide\n",
            "/usr/local/lib/python3.7/dist-packages/ipykernel_launcher.py:33: RuntimeWarning: divide by zero encountered in true_divide\n",
            "/usr/local/lib/python3.7/dist-packages/ipykernel_launcher.py:33: RuntimeWarning: invalid value encountered in true_divide\n",
            "/usr/local/lib/python3.7/dist-packages/ipykernel_launcher.py:33: RuntimeWarning: divide by zero encountered in true_divide\n",
            "/usr/local/lib/python3.7/dist-packages/ipykernel_launcher.py:33: RuntimeWarning: invalid value encountered in true_divide\n",
            "/usr/local/lib/python3.7/dist-packages/ipykernel_launcher.py:33: RuntimeWarning: divide by zero encountered in true_divide\n",
            "/usr/local/lib/python3.7/dist-packages/ipykernel_launcher.py:33: RuntimeWarning: invalid value encountered in true_divide\n",
            "/usr/local/lib/python3.7/dist-packages/ipykernel_launcher.py:33: RuntimeWarning: divide by zero encountered in true_divide\n",
            "/usr/local/lib/python3.7/dist-packages/ipykernel_launcher.py:33: RuntimeWarning: invalid value encountered in true_divide\n",
            "/usr/local/lib/python3.7/dist-packages/ipykernel_launcher.py:33: RuntimeWarning: divide by zero encountered in true_divide\n",
            "/usr/local/lib/python3.7/dist-packages/ipykernel_launcher.py:33: RuntimeWarning: invalid value encountered in true_divide\n",
            "/usr/local/lib/python3.7/dist-packages/ipykernel_launcher.py:33: RuntimeWarning: divide by zero encountered in true_divide\n",
            "/usr/local/lib/python3.7/dist-packages/ipykernel_launcher.py:33: RuntimeWarning: invalid value encountered in true_divide\n"
          ],
          "name": "stderr"
        }
      ]
    },
    {
      "cell_type": "markdown",
      "metadata": {
        "id": "KpSFKw4C3e78"
      },
      "source": [
        "## performance analysis"
      ]
    },
    {
      "cell_type": "code",
      "metadata": {
        "colab": {
          "base_uri": "https://localhost:8080/"
        },
        "id": "heTcQyw-3e78",
        "outputId": "121c66ed-f0a4-4442-c083-d206061427d2"
      },
      "source": [
        "print(\"KMeans - Class:\",hcClasse,\"- metric:\", hcMetric)\n",
        "\n",
        "print(\"ExecTime mean: \",np.mean(ext))\n",
        "print(\"Accuracy mean: \",np.mean(acc))\n",
        "print(\"Rand Score mean: \",np.mean(arc))\n",
        "print(\"Silhouette mean: \",np.mean(sls))\n",
        "print(\"Calinki-Harabasz mean: \",np.mean(chs))\n",
        "print(\"Mutual Info mean: \",np.mean(mis))\n",
        "print(\"Fowlkes Mallows mean: \",np.mean(fms))\n",
        "\n",
        "print(\"\\nExecTime median: \",np.median(ext))\n",
        "print(\"Accuracy median: \",np.median(acc))\n",
        "print(\"Rand Score median: \",np.median(arc))\n",
        "print(\"Silhouette median: \",np.median(sls))\n",
        "print(\"Calinki-Harabasz median: \",np.median(chs))\n",
        "print(\"Mutual Info median: \",np.median(mis))\n",
        "print(\"Fowlkes Mallows median: \",np.median(fms))\n",
        "\n",
        "print(\"\\nExecTime Std: \",np.std(ext))\n",
        "print(\"Accuracy Std: \",np.std(acc))\n",
        "print(\"Rand Score Std: \",np.std(arc))\n",
        "print(\"Silhouette Std: \",np.std(sls))\n",
        "print(\"Calinki-Harabasz Std: \",np.std(chs))\n",
        "print(\"Mutual Info Std: \",np.std(mis))\n",
        "print(\"Fowlkes Mallows Std: \",np.std(fms))"
      ],
      "execution_count": null,
      "outputs": [
        {
          "output_type": "stream",
          "text": [
            "KMeans - Class: CondSocialCirc - metric: chebyshev\n",
            "ExecTime mean:  0.0768403689066569\n",
            "Accuracy mean:  0.7937293729372935\n",
            "Rand Score mean:  -0.04592565676890833\n",
            "Silhouette mean:  0.0255368805078335\n",
            "Calinki-Harabasz mean:  7.848830804702118\n",
            "Mutual Info mean:  0.00665220752968809\n",
            "Fowlkes Mallows mean:  0.8080001194806451\n",
            "\n",
            "ExecTime median:  0.07532751560211182\n",
            "Accuracy median:  0.7937293729372937\n",
            "Rand Score median:  -0.045925656768908314\n",
            "Silhouette median:  0.02553688050783349\n",
            "Calinki-Harabasz median:  7.848830804702118\n",
            "Mutual Info median:  0.006652207529688089\n",
            "Fowlkes Mallows median:  0.8080001194806449\n",
            "\n",
            "ExecTime Std:  0.0072410450069879005\n",
            "Accuracy Std:  2.220446049250313e-16\n",
            "Rand Score Std:  1.3877787807814457e-17\n",
            "Silhouette Std:  1.0408340855860843e-17\n",
            "Calinki-Harabasz Std:  0.0\n",
            "Mutual Info Std:  8.673617379884035e-19\n",
            "Fowlkes Mallows Std:  2.220446049250313e-16\n"
          ],
          "name": "stdout"
        }
      ]
    },
    {
      "cell_type": "code",
      "metadata": {
        "id": "E1Ntg_Vj3e79"
      },
      "source": [
        "#cluster_labels_predict"
      ],
      "execution_count": null,
      "outputs": []
    },
    {
      "cell_type": "code",
      "metadata": {
        "id": "CKOOc_ye2kTG"
      },
      "source": [
        "import seaborn as sns\n",
        "default_font_size = rcParams['font.size']\n",
        "rcParams['font.size'] = 20\n",
        "rcParams['axes.labelsize']=20\n",
        "rcParams['axes.titlesize']=20\n",
        "rcParams['figure.figsize'] =(8.0, 5.5)\n",
        "\n",
        "# ['Male','Female','Other']\n",
        "categ = ['No','Yes','Other']"
      ],
      "execution_count": null,
      "outputs": []
    },
    {
      "cell_type": "code",
      "metadata": {
        "colab": {
          "base_uri": "https://localhost:8080/",
          "height": 395
        },
        "id": "AyrCWGi43e7_",
        "outputId": "6d2c4406-0966-43ae-f623-85b9195883a9"
      },
      "source": [
        "mat = metrics.confusion_matrix(data_src[hcClasse], cluster_labels_predict)\n",
        "\n",
        "sns.heatmap(mat.T, square=True, annot=True, fmt='d', cbar=False, \n",
        "            xticklabels=categ, yticklabels=categ)\n",
        "\n",
        "plt.tick_params(labelsize=15)\n",
        "plt.title(hcClasse)\n",
        "plt.xlabel('true label')\n",
        "plt.ylabel('predicted label')\n",
        "plt.show()"
      ],
      "execution_count": null,
      "outputs": [
        {
          "output_type": "display_data",
          "data": {
            "image/png": "[encoded data removed]",
            "text/plain": [
              "<Figure size 576x396 with 1 Axes>"
            ]
          },
          "metadata": {
            "tags": []
          }
        }
      ]
    },
    {
      "cell_type": "code",
      "metadata": {
        "colab": {
          "base_uri": "https://localhost:8080/"
        },
        "id": "SorW1yed3e7_",
        "outputId": "797e65c6-d159-4656-8061-f7865eb7cace"
      },
      "source": [
        "model.centroids"
      ],
      "execution_count": null,
      "outputs": [
        {
          "output_type": "execute_result",
          "data": {
            "text/plain": [
              "{0: array([0.06837607, 0.86324786, 0.16752137, 0.82905983, 0.35897436,\n",
              "        0.16239316, 0.17777778, 0.12307692, 0.15897436, 0.24273504,\n",
              "        0.17948718, 0.12991453, 0.17948718, 0.24786325, 0.55187377,\n",
              "        0.14820197, 0.06391453, 0.03565417, 0.47692308, 0.25470085,\n",
              "        0.26837607, 0.13333333, 0.01367521, 0.01538462, 0.01709402,\n",
              "        0.51623932, 0.1008547 , 0.12307692, 0.02051282, 0.05982906]),\n",
              " 1: array([0.        , 1.        , 0.        , 1.        , 0.        ,\n",
              "        0.        , 0.        , 0.        , 0.        , 0.        ,\n",
              "        0.        , 0.        , 0.        , 1.        , 0.65      ,\n",
              "        0.08123077, 0.00916667, 0.        , 1.        , 0.        ,\n",
              "        0.        , 1.        , 0.        , 0.        , 0.        ,\n",
              "        0.        , 0.        , 0.        , 0.        , 0.        ]),\n",
              " 2: array([0.        , 1.        , 0.        , 1.        , 1.        ,\n",
              "        0.        , 0.        , 1.        , 0.        , 0.        ,\n",
              "        0.        , 1.        , 0.        , 0.        , 0.23076923,\n",
              "        0.05538462, 0.0125    , 0.        , 1.        , 0.        ,\n",
              "        0.        , 0.        , 0.        , 0.        , 1.        ,\n",
              "        0.        , 0.        , 0.        , 0.        , 0.        ])}"
            ]
          },
          "metadata": {
            "tags": []
          },
          "execution_count": 17
        }
      ]
    },
    {
      "cell_type": "code",
      "metadata": {
        "colab": {
          "base_uri": "https://localhost:8080/"
        },
        "id": "WAqYt3D4voYI",
        "outputId": "2e5e3864-4d32-4009-ff17-4d6c9a98b8d5"
      },
      "source": [
        "rcParams.values"
      ],
      "execution_count": null,
      "outputs": [
        {
          "output_type": "execute_result",
          "data": {
            "text/plain": [
              "<bound method Mapping.values of RcParams({'_internal.classic_mode': False,\n",
              "          'agg.path.chunksize': 0,\n",
              "          'animation.avconv_args': [],\n",
              "          'animation.avconv_path': 'avconv',\n",
              "          'animation.bitrate': -1,\n",
              "          'animation.codec': 'h264',\n",
              "          'animation.convert_args': [],\n",
              "          'animation.convert_path': 'convert',\n",
              "          'animation.embed_limit': 20.0,\n",
              "          'animation.ffmpeg_args': [],\n",
              "          'animation.ffmpeg_path': 'ffmpeg',\n",
              "          'animation.frame_format': 'png',\n",
              "          'animation.html': 'none',\n",
              "          'animation.html_args': [],\n",
              "          'animation.writer': 'ffmpeg',\n",
              "          'axes.autolimit_mode': 'data',\n",
              "          'axes.axisbelow': True,\n",
              "          'axes.edgecolor': '.8',\n",
              "          'axes.facecolor': 'white',\n",
              "          'axes.formatter.limits': [-5, 6],\n",
              "          'axes.formatter.min_exponent': 0,\n",
              "          'axes.formatter.offset_threshold': 4,\n",
              "          'axes.formatter.use_locale': False,\n",
              "          'axes.formatter.use_mathtext': False,\n",
              "          'axes.formatter.useoffset': True,\n",
              "          'axes.grid': True,\n",
              "          'axes.grid.axis': 'both',\n",
              "          'axes.grid.which': 'major',\n",
              "          'axes.labelcolor': '.15',\n",
              "          'axes.labelpad': 4.0,\n",
              "          'axes.labelsize': 20.0,\n",
              "          'axes.labelweight': 'normal',\n",
              "          'axes.linewidth': 1.25,\n",
              "          'axes.prop_cycle': cycler('color', [(0.00784313725490196, 0.4470588235294118, 0.6352941176470588), (0.6235294117647059, 0.7647058823529411, 0.4666666666666667), (0.792156862745098, 0.043137254901960784, 0.011764705882352941), (0.6470588235294118, 0.00784313725490196, 0.34509803921568627), (0.8431372549019608, 0.7803921568627451, 0.011764705882352941), (0.5333333333333333, 0.792156862745098, 0.8549019607843137)]),\n",
              "          'axes.spines.bottom': True,\n",
              "          'axes.spines.left': True,\n",
              "          'axes.spines.right': True,\n",
              "          'axes.spines.top': True,\n",
              "          'axes.titlecolor': 'auto',\n",
              "          'axes.titlelocation': 'center',\n",
              "          'axes.titlepad': 6.0,\n",
              "          'axes.titlesize': 20.0,\n",
              "          'axes.titleweight': 'normal',\n",
              "          'axes.unicode_minus': True,\n",
              "          'axes.xmargin': 0.05,\n",
              "          'axes.ymargin': 0.05,\n",
              "          'axes3d.grid': True,\n",
              "          'backend': 'module://ipykernel.pylab.backend_inline',\n",
              "          'backend_fallback': True,\n",
              "          'boxplot.bootstrap': None,\n",
              "          'boxplot.boxprops.color': 'black',\n",
              "          'boxplot.boxprops.linestyle': '-',\n",
              "          'boxplot.boxprops.linewidth': 1.0,\n",
              "          'boxplot.capprops.color': 'black',\n",
              "          'boxplot.capprops.linestyle': '-',\n",
              "          'boxplot.capprops.linewidth': 1.0,\n",
              "          'boxplot.flierprops.color': 'black',\n",
              "          'boxplot.flierprops.linestyle': 'none',\n",
              "          'boxplot.flierprops.linewidth': 1.0,\n",
              "          'boxplot.flierprops.marker': 'o',\n",
              "          'boxplot.flierprops.markeredgecolor': 'black',\n",
              "          'boxplot.flierprops.markeredgewidth': 1.0,\n",
              "          'boxplot.flierprops.markerfacecolor': 'none',\n",
              "          'boxplot.flierprops.markersize': 6.0,\n",
              "          'boxplot.meanline': False,\n",
              "          'boxplot.meanprops.color': 'C2',\n",
              "          'boxplot.meanprops.linestyle': '--',\n",
              "          'boxplot.meanprops.linewidth': 1.0,\n",
              "          'boxplot.meanprops.marker': '^',\n",
              "          'boxplot.meanprops.markeredgecolor': 'C2',\n",
              "          'boxplot.meanprops.markerfacecolor': 'C2',\n",
              "          'boxplot.meanprops.markersize': 6.0,\n",
              "          'boxplot.medianprops.color': 'C1',\n",
              "          'boxplot.medianprops.linestyle': '-',\n",
              "          'boxplot.medianprops.linewidth': 1.0,\n",
              "          'boxplot.notch': False,\n",
              "          'boxplot.patchartist': False,\n",
              "          'boxplot.showbox': True,\n",
              "          'boxplot.showcaps': True,\n",
              "          'boxplot.showfliers': True,\n",
              "          'boxplot.showmeans': False,\n",
              "          'boxplot.vertical': True,\n",
              "          'boxplot.whiskerprops.color': 'black',\n",
              "          'boxplot.whiskerprops.linestyle': '-',\n",
              "          'boxplot.whiskerprops.linewidth': 1.0,\n",
              "          'boxplot.whiskers': 1.5,\n",
              "          'contour.corner_mask': True,\n",
              "          'contour.negative_linestyle': 'dashed',\n",
              "          'datapath': '/usr/local/lib/python3.7/dist-packages/matplotlib/mpl-data',\n",
              "          'date.autoformatter.day': '%Y-%m-%d',\n",
              "          'date.autoformatter.hour': '%m-%d %H',\n",
              "          'date.autoformatter.microsecond': '%M:%S.%f',\n",
              "          'date.autoformatter.minute': '%d %H:%M',\n",
              "          'date.autoformatter.month': '%Y-%m',\n",
              "          'date.autoformatter.second': '%H:%M:%S',\n",
              "          'date.autoformatter.year': '%Y',\n",
              "          'docstring.hardcopy': False,\n",
              "          'errorbar.capsize': 0.0,\n",
              "          'figure.autolayout': False,\n",
              "          'figure.constrained_layout.h_pad': 0.04167,\n",
              "          'figure.constrained_layout.hspace': 0.02,\n",
              "          'figure.constrained_layout.use': False,\n",
              "          'figure.constrained_layout.w_pad': 0.04167,\n",
              "          'figure.constrained_layout.wspace': 0.02,\n",
              "          'figure.dpi': 72.0,\n",
              "          'figure.edgecolor': (1, 1, 1, 0),\n",
              "          'figure.facecolor': 'white',\n",
              "          'figure.figsize': [8.0, 5.5],\n",
              "          'figure.frameon': True,\n",
              "          'figure.max_open_warning': 20,\n",
              "          'figure.subplot.bottom': 0.125,\n",
              "          'figure.subplot.hspace': 0.2,\n",
              "          'figure.subplot.left': 0.125,\n",
              "          'figure.subplot.right': 0.9,\n",
              "          'figure.subplot.top': 0.88,\n",
              "          'figure.subplot.wspace': 0.2,\n",
              "          'figure.titlesize': 'large',\n",
              "          'figure.titleweight': 'normal',\n",
              "          'font.cursive': ['Apple Chancery',\n",
              "                           'Textile',\n",
              "                           'Zapf Chancery',\n",
              "                           'Sand',\n",
              "                           'Script MT',\n",
              "                           'Felipa',\n",
              "                           'cursive'],\n",
              "          'font.family': ['sans-serif'],\n",
              "          'font.fantasy': ['Comic Neue',\n",
              "                           'Comic Sans MS',\n",
              "                           'Chicago',\n",
              "                           'Charcoal',\n",
              "                           'Impact',\n",
              "                           'Western',\n",
              "                           'Humor Sans',\n",
              "                           'xkcd',\n",
              "                           'fantasy'],\n",
              "          'font.monospace': ['DejaVu Sans Mono',\n",
              "                             'Bitstream Vera Sans Mono',\n",
              "                             'Computer Modern Typewriter',\n",
              "                             'Andale Mono',\n",
              "                             'Nimbus Mono L',\n",
              "                             'Courier New',\n",
              "                             'Courier',\n",
              "                             'Fixed',\n",
              "                             'Terminal',\n",
              "                             'monospace'],\n",
              "          'font.sans-serif': ['Arial',\n",
              "                              'Liberation Sans',\n",
              "                              'Bitstream Vera Sans',\n",
              "                              'sans-serif'],\n",
              "          'font.serif': ['DejaVu Serif',\n",
              "                         'Bitstream Vera Serif',\n",
              "                         'Computer Modern Roman',\n",
              "                         'New Century Schoolbook',\n",
              "                         'Century Schoolbook L',\n",
              "                         'Utopia',\n",
              "                         'ITC Bookman',\n",
              "                         'Bookman',\n",
              "                         'Nimbus Roman No9 L',\n",
              "                         'Times New Roman',\n",
              "                         'Times',\n",
              "                         'Palatino',\n",
              "                         'Charter',\n",
              "                         'serif'],\n",
              "          'font.size': 20.0,\n",
              "          'font.stretch': 'normal',\n",
              "          'font.style': 'normal',\n",
              "          'font.variant': 'normal',\n",
              "          'font.weight': 'normal',\n",
              "          'grid.alpha': 1.0,\n",
              "          'grid.color': '.8',\n",
              "          'grid.linestyle': '-',\n",
              "          'grid.linewidth': 1.0,\n",
              "          'hatch.color': 'black',\n",
              "          'hatch.linewidth': 1.0,\n",
              "          'hist.bins': 10,\n",
              "          'image.aspect': 'equal',\n",
              "          'image.cmap': 'Greys',\n",
              "          'image.composite_image': True,\n",
              "          'image.interpolation': 'antialiased',\n",
              "          'image.lut': 256,\n",
              "          'image.origin': 'upper',\n",
              "          'image.resample': True,\n",
              "          'interactive': True,\n",
              "          'keymap.all_axes': ['a'],\n",
              "          'keymap.back': ['left', 'c', 'backspace', 'MouseButton.BACK'],\n",
              "          'keymap.copy': ['ctrl+c', 'cmd+c'],\n",
              "          'keymap.forward': ['right', 'v', 'MouseButton.FORWARD'],\n",
              "          'keymap.fullscreen': ['f', 'ctrl+f'],\n",
              "          'keymap.grid': ['g'],\n",
              "          'keymap.grid_minor': ['G'],\n",
              "          'keymap.help': ['f1'],\n",
              "          'keymap.home': ['h', 'r', 'home'],\n",
              "          'keymap.pan': ['p'],\n",
              "          'keymap.quit': ['ctrl+w', 'cmd+w', 'q'],\n",
              "          'keymap.quit_all': ['W', 'cmd+W', 'Q'],\n",
              "          'keymap.save': ['s', 'ctrl+s'],\n",
              "          'keymap.xscale': ['k', 'L'],\n",
              "          'keymap.yscale': ['l'],\n",
              "          'keymap.zoom': ['o'],\n",
              "          'legend.borderaxespad': 0.5,\n",
              "          'legend.borderpad': 0.4,\n",
              "          'legend.columnspacing': 2.0,\n",
              "          'legend.edgecolor': '0.8',\n",
              "          'legend.facecolor': 'inherit',\n",
              "          'legend.fancybox': True,\n",
              "          'legend.fontsize': 10.0,\n",
              "          'legend.framealpha': 0.8,\n",
              "          'legend.frameon': False,\n",
              "          'legend.handleheight': 0.7,\n",
              "          'legend.handlelength': 2.0,\n",
              "          'legend.handletextpad': 0.8,\n",
              "          'legend.labelspacing': 0.5,\n",
              "          'legend.loc': 'best',\n",
              "          'legend.markerscale': 1.0,\n",
              "          'legend.numpoints': 1,\n",
              "          'legend.scatterpoints': 1,\n",
              "          'legend.shadow': False,\n",
              "          'legend.title_fontsize': None,\n",
              "          'lines.antialiased': True,\n",
              "          'lines.color': 'C0',\n",
              "          'lines.dash_capstyle': 'butt',\n",
              "          'lines.dash_joinstyle': 'round',\n",
              "          'lines.dashdot_pattern': [6.4, 1.6, 1.0, 1.6],\n",
              "          'lines.dashed_pattern': [3.7, 1.6],\n",
              "          'lines.dotted_pattern': [1.0, 1.65],\n",
              "          'lines.linestyle': '-',\n",
              "          'lines.linewidth': 1.75,\n",
              "          'lines.marker': 'None',\n",
              "          'lines.markeredgecolor': 'auto',\n",
              "          'lines.markeredgewidth': 0.0,\n",
              "          'lines.markerfacecolor': 'auto',\n",
              "          'lines.markersize': 7.0,\n",
              "          'lines.scale_dashes': True,\n",
              "          'lines.solid_capstyle': 'round',\n",
              "          'lines.solid_joinstyle': 'round',\n",
              "          'markers.fillstyle': 'full',\n",
              "          'mathtext.bf': 'sans:bold',\n",
              "          'mathtext.cal': 'cursive',\n",
              "          'mathtext.default': 'it',\n",
              "          'mathtext.fallback_to_cm': True,\n",
              "          'mathtext.fontset': 'dejavusans',\n",
              "          'mathtext.it': 'sans:italic',\n",
              "          'mathtext.rm': 'sans',\n",
              "          'mathtext.sf': 'sans',\n",
              "          'mathtext.tt': 'monospace',\n",
              "          'mpl_toolkits.legacy_colorbar': True,\n",
              "          'patch.antialiased': True,\n",
              "          'patch.edgecolor': 'black',\n",
              "          'patch.facecolor': (0.00784313725490196,\n",
              "                              0.4470588235294118,\n",
              "                              0.6352941176470588),\n",
              "          'patch.force_edgecolor': False,\n",
              "          'patch.linewidth': 0.3,\n",
              "          'path.effects': [],\n",
              "          'path.simplify': True,\n",
              "          'path.simplify_threshold': 0.1111111111111111,\n",
              "          'path.sketch': None,\n",
              "          'path.snap': True,\n",
              "          'pdf.compression': 6,\n",
              "          'pdf.fonttype': 3,\n",
              "          'pdf.inheritcolor': False,\n",
              "          'pdf.use14corefonts': False,\n",
              "          'pgf.preamble': '',\n",
              "          'pgf.rcfonts': True,\n",
              "          'pgf.texsystem': 'xelatex',\n",
              "          'polaraxes.grid': True,\n",
              "          'ps.distiller.res': 6000,\n",
              "          'ps.fonttype': 3,\n",
              "          'ps.papersize': 'letter',\n",
              "          'ps.useafm': False,\n",
              "          'ps.usedistiller': None,\n",
              "          'savefig.bbox': None,\n",
              "          'savefig.directory': '~',\n",
              "          'savefig.dpi': 'figure',\n",
              "          'savefig.edgecolor': 'white',\n",
              "          'savefig.facecolor': 'white',\n",
              "          'savefig.format': 'png',\n",
              "          'savefig.frameon': True,\n",
              "          'savefig.jpeg_quality': 95,\n",
              "          'savefig.orientation': 'portrait',\n",
              "          'savefig.pad_inches': 0.1,\n",
              "          'savefig.transparent': False,\n",
              "          'scatter.edgecolors': 'face',\n",
              "          'scatter.marker': 'o',\n",
              "          'svg.fonttype': 'path',\n",
              "          'svg.hashsalt': None,\n",
              "          'svg.image_inline': True,\n",
              "          'text.antialiased': True,\n",
              "          'text.color': '.15',\n",
              "          'text.hinting': 'auto',\n",
              "          'text.hinting_factor': 8,\n",
              "          'text.kerning_factor': 0,\n",
              "          'text.latex.preamble': '',\n",
              "          'text.latex.preview': False,\n",
              "          'text.latex.unicode': True,\n",
              "          'text.usetex': False,\n",
              "          'timezone': 'UTC',\n",
              "          'tk.window_focus': False,\n",
              "          'toolbar': 'toolbar2',\n",
              "          'verbose.fileo': 'sys.stdout',\n",
              "          'verbose.level': 'silent',\n",
              "          'webagg.address': '127.0.0.1',\n",
              "          'webagg.open_in_browser': True,\n",
              "          'webagg.port': 8988,\n",
              "          'webagg.port_retries': 50,\n",
              "          'xtick.alignment': 'center',\n",
              "          'xtick.bottom': True,\n",
              "          'xtick.color': '.15',\n",
              "          'xtick.direction': 'out',\n",
              "          'xtick.labelbottom': True,\n",
              "          'xtick.labelsize': 10.0,\n",
              "          'xtick.labeltop': False,\n",
              "          'xtick.major.bottom': True,\n",
              "          'xtick.major.pad': 7.0,\n",
              "          'xtick.major.size': 0.0,\n",
              "          'xtick.major.top': True,\n",
              "          'xtick.major.width': 1.0,\n",
              "          'xtick.minor.bottom': True,\n",
              "          'xtick.minor.pad': 3.4,\n",
              "          'xtick.minor.size': 0.0,\n",
              "          'xtick.minor.top': True,\n",
              "          'xtick.minor.visible': False,\n",
              "          'xtick.minor.width': 0.5,\n",
              "          'xtick.top': False,\n",
              "          'ytick.alignment': 'center_baseline',\n",
              "          'ytick.color': '.15',\n",
              "          'ytick.direction': 'out',\n",
              "          'ytick.labelleft': True,\n",
              "          'ytick.labelright': False,\n",
              "          'ytick.labelsize': 10.0,\n",
              "          'ytick.left': True,\n",
              "          'ytick.major.left': True,\n",
              "          'ytick.major.pad': 7.0,\n",
              "          'ytick.major.right': True,\n",
              "          'ytick.major.size': 0.0,\n",
              "          'ytick.major.width': 1.0,\n",
              "          'ytick.minor.left': True,\n",
              "          'ytick.minor.pad': 3.4,\n",
              "          'ytick.minor.right': True,\n",
              "          'ytick.minor.size': 0.0,\n",
              "          'ytick.minor.visible': False,\n",
              "          'ytick.minor.width': 0.5,\n",
              "          'ytick.right': False})>"
            ]
          },
          "metadata": {
            "tags": []
          },
          "execution_count": 67
        }
      ]
    },
    {
      "cell_type": "markdown",
      "metadata": {
        "id": "aKks790t3e8A"
      },
      "source": [
        "##Visual Analysis: Clusters versus Gender/CondSocialCirc"
      ]
    },
    {
      "cell_type": "code",
      "metadata": {
        "id": "vL7UCHfX3e8A"
      },
      "source": [
        "df = pd.DataFrame(list(model.centroids.values()))"
      ],
      "execution_count": null,
      "outputs": []
    },
    {
      "cell_type": "code",
      "metadata": {
        "colab": {
          "base_uri": "https://localhost:8080/",
          "height": 376
        },
        "id": "TzdvPP1j3e8B",
        "outputId": "b7b47bd2-8aea-41b8-aa32-6b4efb8d13ba"
      },
      "source": [
        "plt.scatter(df[0], df[4], s=150, c = 'blue')\n",
        "plt.title('Clustering: penaReclusao x GeneroReu')\n",
        "plt.xlabel('GeneroReu')\n",
        "plt.ylabel('Reclusao')\n",
        "plt.xticks(range(0,2))\n",
        "plt.show()"
      ],
      "execution_count": null,
      "outputs": [
        {
          "output_type": "display_data",
          "data": {
            "image/png": "[encoded data removed]",
            "text/plain": [
              "<Figure size 576x396 with 1 Axes>"
            ]
          },
          "metadata": {
            "tags": []
          }
        }
      ]
    },
    {
      "cell_type": "code",
      "metadata": {
        "colab": {
          "base_uri": "https://localhost:8080/",
          "height": 376
        },
        "id": "ATvPhU223e8B",
        "outputId": "87be0dbb-c1d3-4e1c-dce0-ff4c024fa4ac"
      },
      "source": [
        "plt.scatter(df[0], df[2], s=150, c = 'blue')\n",
        "plt.title('Clustering: penaDetencao x GeneroReu')\n",
        "plt.xlabel('GeneroReu')\n",
        "plt.ylabel('Detention')\n",
        "plt.xticks(range(0,2))\n",
        "plt.yticks(range(0,2))\n",
        "plt.show()"
      ],
      "execution_count": null,
      "outputs": [
        {
          "output_type": "display_data",
          "data": {
            "image/png": "[encoded data removed]",
            "text/plain": [
              "<Figure size 576x396 with 1 Axes>"
            ]
          },
          "metadata": {
            "tags": []
          }
        }
      ]
    },
    {
      "cell_type": "code",
      "metadata": {
        "colab": {
          "base_uri": "https://localhost:8080/",
          "height": 376
        },
        "id": "QCXVTo3M3e8C",
        "outputId": "077cbd07-2d72-42e6-f101-2fc170af24d8"
      },
      "source": [
        "plt.scatter(df[0], df[18], s=150, c = 'blue')\n",
        "plt.title('Clustering: RI_Aberto x GeneroReu')\n",
        "plt.xlabel('GeneroReu')\n",
        "plt.ylabel('RI_Aberto')\n",
        "plt.xticks(range(0,2))\n",
        "plt.show()"
      ],
      "execution_count": null,
      "outputs": [
        {
          "output_type": "display_data",
          "data": {
            "image/png": "[encoded data removed]",
            "text/plain": [
              "<Figure size 576x396 with 1 Axes>"
            ]
          },
          "metadata": {
            "tags": []
          }
        }
      ]
    },
    {
      "cell_type": "code",
      "metadata": {
        "colab": {
          "base_uri": "https://localhost:8080/",
          "height": 376
        },
        "id": "VmMeGkoE3e8D",
        "outputId": "77bfd396-43c5-40eb-934b-f54d9aee1b9f"
      },
      "source": [
        "plt.scatter(df[0], df[19], s=150, c = 'blue')\n",
        "plt.title('Clustering: RI_Fechado x GeneroReu')\n",
        "plt.xlabel('GeneroReu')\n",
        "plt.ylabel('RI_Fechado')\n",
        "plt.xticks(range(0,2))\n",
        "plt.yticks(range(0,2))\n",
        "plt.show()"
      ],
      "execution_count": null,
      "outputs": [
        {
          "output_type": "display_data",
          "data": {
            "image/png": "[encoded data removed]",
            "text/plain": [
              "<Figure size 576x396 with 1 Axes>"
            ]
          },
          "metadata": {
            "tags": []
          }
        }
      ]
    },
    {
      "cell_type": "code",
      "metadata": {
        "colab": {
          "base_uri": "https://localhost:8080/",
          "height": 376
        },
        "id": "L4Tgb_uF3e8E",
        "outputId": "32f1190c-0681-4d72-ff51-ef7ad589e27f"
      },
      "source": [
        "plt.scatter(df[0], df[21], s=150, c = 'blue')\n",
        "plt.title('Clustering: RI_SemiAberto x GeneroReu')\n",
        "plt.xlabel('GeneroReu')\n",
        "plt.ylabel('RI_SemiAberto')\n",
        "plt.xticks(range(0,2))\n",
        "plt.yticks(range(0,2))\n",
        "plt.show()"
      ],
      "execution_count": null,
      "outputs": [
        {
          "output_type": "display_data",
          "data": {
            "image/png": "[encoded data removed]",
            "text/plain": [
              "<Figure size 576x396 with 1 Axes>"
            ]
          },
          "metadata": {
            "tags": []
          }
        }
      ]
    },
    {
      "cell_type": "code",
      "metadata": {
        "colab": {
          "base_uri": "https://localhost:8080/",
          "height": 376
        },
        "id": "bWMW1JMH3e8F",
        "outputId": "2ff8ff19-4524-4095-9624-996eec0941a2"
      },
      "source": [
        "plt.scatter(df[0], df[22], s=150, c = 'blue')\n",
        "plt.title('Clustering: ArmasFogo x GeneroReu')\n",
        "plt.xlabel('GeneroReu')\n",
        "plt.ylabel('ArmasFogo')\n",
        "plt.xticks(range(0,2))\n",
        "plt.show()"
      ],
      "execution_count": null,
      "outputs": [
        {
          "output_type": "display_data",
          "data": {
            "image/png": "[encoded data removed]",
            "text/plain": [
              "<Figure size 576x396 with 1 Axes>"
            ]
          },
          "metadata": {
            "tags": []
          }
        }
      ]
    },
    {
      "cell_type": "code",
      "metadata": {
        "colab": {
          "base_uri": "https://localhost:8080/",
          "height": 376
        },
        "id": "aMjKExOH3e8F",
        "outputId": "bd893a09-766d-4ba8-af56-8c9e92431dc7"
      },
      "source": [
        "plt.scatter(df[0], df[23], s=150, c = 'blue')\n",
        "plt.title('Clustering: CP-adminPublico x GeneroReu')\n",
        "plt.xlabel('GeneroReu')\n",
        "plt.ylabel('CP-adminPublico')\n",
        "plt.xticks(range(0,2))\n",
        "plt.yticks(range(0,2))\n",
        "plt.show()"
      ],
      "execution_count": null,
      "outputs": [
        {
          "output_type": "display_data",
          "data": {
            "image/png": "[encoded data removed]",
            "text/plain": [
              "<Figure size 576x396 with 1 Axes>"
            ]
          },
          "metadata": {
            "tags": []
          }
        }
      ]
    },
    {
      "cell_type": "code",
      "metadata": {
        "colab": {
          "base_uri": "https://localhost:8080/",
          "height": 376
        },
        "id": "6mFxZYXV3e8G",
        "outputId": "6bbf8c2a-af68-47ab-976e-f01c68876bcb"
      },
      "source": [
        "plt.scatter(df[0], df[24], s=150, c = 'blue')\n",
        "plt.title('Clustering: CP-liberdade x GeneroReu')\n",
        "plt.xlabel('GeneroReu')\n",
        "plt.ylabel('CP-liberdade')\n",
        "plt.xticks(range(0,2))\n",
        "plt.yticks(range(0,2))\n",
        "plt.show()"
      ],
      "execution_count": null,
      "outputs": [
        {
          "output_type": "display_data",
          "data": {
            "image/png": "[encoded data removed]",
            "text/plain": [
              "<Figure size 576x396 with 1 Axes>"
            ]
          },
          "metadata": {
            "tags": []
          }
        }
      ]
    },
    {
      "cell_type": "code",
      "metadata": {
        "colab": {
          "base_uri": "https://localhost:8080/",
          "height": 376
        },
        "id": "E-W2nQMb3e8H",
        "outputId": "65e1d981-a46d-4a83-e5d2-427a3c3749c5"
      },
      "source": [
        "plt.scatter(df[0], df[26], s=150, c = 'blue')\n",
        "plt.title('Clustering: CP-patrimonio x GeneroReu')\n",
        "plt.xlabel('GeneroReu')\n",
        "plt.ylabel('CP-patrimonio')\n",
        "plt.xticks(range(0,2))\n",
        "plt.yticks(range(0,2))\n",
        "plt.show()"
      ],
      "execution_count": null,
      "outputs": [
        {
          "output_type": "display_data",
          "data": {
            "image/png": "[encoded data removed]",
            "text/plain": [
              "<Figure size 576x396 with 1 Axes>"
            ]
          },
          "metadata": {
            "tags": []
          }
        }
      ]
    },
    {
      "cell_type": "code",
      "metadata": {
        "colab": {
          "base_uri": "https://localhost:8080/",
          "height": 376
        },
        "id": "z4l8gs0p3e8I",
        "outputId": "9c3694ba-b7b3-40cb-c6d5-caae1630bdfd"
      },
      "source": [
        "plt.scatter(df[0], df[27], s=150, c = 'blue')\n",
        "plt.title('Clustering: CP-Pessoa x GeneroReu')\n",
        "plt.xlabel('GeneroReu')\n",
        "plt.ylabel('CP-Pessoa')\n",
        "plt.xticks(range(0,2))\n",
        "plt.yticks(range(0,2))\n",
        "plt.show()"
      ],
      "execution_count": null,
      "outputs": [
        {
          "output_type": "display_data",
          "data": {
            "image/png": "[encoded data removed]",
            "text/plain": [
              "<Figure size 576x396 with 1 Axes>"
            ]
          },
          "metadata": {
            "tags": []
          }
        }
      ]
    },
    {
      "cell_type": "code",
      "metadata": {
        "colab": {
          "base_uri": "https://localhost:8080/",
          "height": 376
        },
        "id": "FFx3qMVP3e8J",
        "outputId": "47bf38bb-0cd1-4e4b-b9c5-903ea15c2316"
      },
      "source": [
        "plt.scatter(df[0], df[28], s=150, c = 'blue')\n",
        "plt.title('Clustering: Drogas x GeneroReu')\n",
        "plt.xlabel('GeneroReu')\n",
        "plt.ylabel('Drogas')\n",
        "plt.xticks(range(0,2))\n",
        "plt.yticks(range(0,2))\n",
        "plt.show()"
      ],
      "execution_count": null,
      "outputs": [
        {
          "output_type": "display_data",
          "data": {
            "image/png": "[encoded data removed]",
            "text/plain": [
              "<Figure size 576x396 with 1 Axes>"
            ]
          },
          "metadata": {
            "tags": []
          }
        }
      ]
    },
    {
      "cell_type": "code",
      "metadata": {
        "colab": {
          "base_uri": "https://localhost:8080/",
          "height": 376
        },
        "id": "uezaEJ2C3e8J",
        "outputId": "74238013-83c5-486f-e164-077e732fdeb0"
      },
      "source": [
        "plt.scatter(df[0], df[30], s=150, c = 'blue')\n",
        "plt.title('Clustering: Transito x GeneroReu')\n",
        "plt.xlabel('GeneroReu')\n",
        "plt.ylabel('Transito')\n",
        "plt.xticks(range(0,2))\n",
        "plt.yticks(range(0,2))\n",
        "plt.show()"
      ],
      "execution_count": null,
      "outputs": [
        {
          "output_type": "display_data",
          "data": {
            "image/png": "[encoded data removed]",
            "text/plain": [
              "<Figure size 576x396 with 1 Axes>"
            ]
          },
          "metadata": {
            "tags": []
          }
        }
      ]
    },
    {
      "cell_type": "code",
      "metadata": {
        "id": "gtoVkvPo3e8K"
      },
      "source": [
        "import matplotlib.cm as cm\n",
        "colors = cm.rainbow(np.linspace(0, 1, 12))"
      ],
      "execution_count": null,
      "outputs": []
    },
    {
      "cell_type": "code",
      "metadata": {
        "colab": {
          "base_uri": "https://localhost:8080/",
          "height": 515
        },
        "id": "4wjU8tL13e8K",
        "outputId": "24877db6-e1a7-4856-9f21-9cc712d89f07"
      },
      "source": [
        "plt.scatter(df[0], df[22], s=150, c = colors[5])\n",
        "plt.scatter(df[0], df[23], s=150, c = colors[6])\n",
        "plt.scatter(df[0], df[24], s=150, c = colors[7])\n",
        "plt.scatter(df[0], df[26], s=150, c = colors[8])\n",
        "plt.scatter(df[0], df[27], s=150, c = colors[9])\n",
        "plt.scatter(df[0], df[28], s=150, c = colors[10])\n",
        "plt.scatter(df[0], df[30], s=150, c = colors[11])\n",
        "\n",
        "plt.title('Clustering: PenalType x GeneroReu')\n",
        "plt.xlabel('GeneroReu')\n",
        "plt.ylabel('PenalType')\n",
        "plt.xticks(range(0,2))\n",
        "\n",
        "plt.show()"
      ],
      "execution_count": null,
      "outputs": [
        {
          "output_type": "stream",
          "text": [
            "*c* argument looks like a single numeric RGB or RGBA sequence, which should be avoided as value-mapping will have precedence in case its length matches with *x* & *y*.  Please use the *color* keyword-argument or provide a 2-D array with a single row if you intend to specify the same RGB or RGBA value for all points.\n",
            "*c* argument looks like a single numeric RGB or RGBA sequence, which should be avoided as value-mapping will have precedence in case its length matches with *x* & *y*.  Please use the *color* keyword-argument or provide a 2-D array with a single row if you intend to specify the same RGB or RGBA value for all points.\n",
            "*c* argument looks like a single numeric RGB or RGBA sequence, which should be avoided as value-mapping will have precedence in case its length matches with *x* & *y*.  Please use the *color* keyword-argument or provide a 2-D array with a single row if you intend to specify the same RGB or RGBA value for all points.\n",
            "*c* argument looks like a single numeric RGB or RGBA sequence, which should be avoided as value-mapping will have precedence in case its length matches with *x* & *y*.  Please use the *color* keyword-argument or provide a 2-D array with a single row if you intend to specify the same RGB or RGBA value for all points.\n",
            "*c* argument looks like a single numeric RGB or RGBA sequence, which should be avoided as value-mapping will have precedence in case its length matches with *x* & *y*.  Please use the *color* keyword-argument or provide a 2-D array with a single row if you intend to specify the same RGB or RGBA value for all points.\n",
            "*c* argument looks like a single numeric RGB or RGBA sequence, which should be avoided as value-mapping will have precedence in case its length matches with *x* & *y*.  Please use the *color* keyword-argument or provide a 2-D array with a single row if you intend to specify the same RGB or RGBA value for all points.\n",
            "*c* argument looks like a single numeric RGB or RGBA sequence, which should be avoided as value-mapping will have precedence in case its length matches with *x* & *y*.  Please use the *color* keyword-argument or provide a 2-D array with a single row if you intend to specify the same RGB or RGBA value for all points.\n"
          ],
          "name": "stderr"
        },
        {
          "output_type": "display_data",
          "data": {
            "image/png": "[encoded data removed]",
            "text/plain": [
              "<Figure size 576x396 with 1 Axes>"
            ]
          },
          "metadata": {
            "tags": []
          }
        }
      ]
    },
    {
      "cell_type": "markdown",
      "metadata": {
        "id": "17qL2Y5J3e8L"
      },
      "source": [
        "A apresentação do gráfico acima, mesclando os clusters de todos os tipos penais, sugere que todos os clusters seguem a influência das amostras masculinas (observar que foi convencionado que Gender=0 é masculino), indicando que todos os tipos penais analisados são mais sentenciados à reus homens ou, mais explicado, que o desbalanceamento dos dados para casos em que os reus são homens (9/1) domina a definição de clusters pelo algoritmo."
      ]
    }
  ]
}