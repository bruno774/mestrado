{
  "nbformat": 4,
  "nbformat_minor": 0,
  "metadata": {
    "colab": {
      "name": "AlemDaPena p3 NaiveBayes.ipynb",
      "provenance": [],
      "toc_visible": true,
      "include_colab_link": true
    },
    "kernelspec": {
      "name": "python3",
      "display_name": "Python 3"
    }
  },
  "cells": [
    {
      "cell_type": "markdown",
      "metadata": {
        "id": "view-in-github",
        "colab_type": "text"
      },
      "source": [
        "<a href=\"https://colab.research.google.com/github/bruno774/mestrado/blob/master/AlemDaPena_p3_NaiveBayes.ipynb\" target=\"_parent\"><img src=\"https://colab.research.google.com/assets/colab-badge.svg\" alt=\"Open In Colab\"/></a>"
      ]
    },
    {
      "cell_type": "markdown",
      "metadata": {
        "id": "qWJhlCTDd3LC"
      },
      "source": [
        "## preliminaries"
      ]
    },
    {
      "cell_type": "code",
      "metadata": {
        "id": "LUMiNfiSfah5"
      },
      "source": [
        "import pandas as pd\n",
        "import numpy as np\n",
        "import time\n",
        "import matplotlib.pyplot as plt\n",
        "import seaborn as sns"
      ],
      "execution_count": null,
      "outputs": []
    },
    {
      "cell_type": "code",
      "metadata": {
        "id": "x04YfaDKV48-"
      },
      "source": [
        "from sklearn.model_selection import train_test_split\n",
        "from sklearn import metrics"
      ],
      "execution_count": null,
      "outputs": []
    },
    {
      "cell_type": "code",
      "metadata": {
        "id": "8MAayOShyccE"
      },
      "source": [
        "data_src = pd.read_pickle('alemPena-p2.pickle')"
      ],
      "execution_count": null,
      "outputs": []
    },
    {
      "cell_type": "code",
      "metadata": {
        "colab": {
          "base_uri": "https://localhost:8080/"
        },
        "id": "ZeoGHL7Pd2Lm",
        "outputId": "b1c907e2-8941-4cdb-c026-755ce82276bd"
      },
      "source": [
        "# just checking\n",
        "data_src.info()"
      ],
      "execution_count": null,
      "outputs": [
        {
          "output_type": "stream",
          "text": [
            "<class 'pandas.core.frame.DataFrame'>\n",
            "Int64Index: 606 entries, 180 to 881\n",
            "Data columns (total 30 columns):\n",
            " #   Column              Non-Null Count  Dtype  \n",
            "---  ------              --------------  -----  \n",
            " 0   GeneroReu           606 non-null    int64  \n",
            " 1   Reclusao            606 non-null    int64  \n",
            " 2   Detencao            606 non-null    int64  \n",
            " 3   Multa               606 non-null    int64  \n",
            " 4   CulpabCirc          606 non-null    int64  \n",
            " 5   AntecedCirc         606 non-null    int64  \n",
            " 6   CondSocialCirc      606 non-null    int64  \n",
            " 7   PersonCirc          606 non-null    int64  \n",
            " 8   MotivosCirc         606 non-null    int64  \n",
            " 9   CircCrimeCirc       606 non-null    int64  \n",
            " 10  ConseqCrimeCirc     606 non-null    int64  \n",
            " 11  ComportVitimaCirc   606 non-null    int64  \n",
            " 12  CircReincidencia    606 non-null    int64  \n",
            " 13  PenaMinLegal        606 non-null    int64  \n",
            " 14  Ano-norm            606 non-null    float64\n",
            " 15  ReclusaoDias-norm   606 non-null    float64\n",
            " 16  MultaDias-norm      606 non-null    float64\n",
            " 17  DetencaoDias-norm   606 non-null    float64\n",
            " 18  RI_Aberto           606 non-null    uint8  \n",
            " 19  RI_Fechado          606 non-null    uint8  \n",
            " 20  RI_Semi-Aberto      606 non-null    uint8  \n",
            " 21  TP_ArmasFogo        606 non-null    uint8  \n",
            " 22  TP_CP-adminPublico  606 non-null    uint8  \n",
            " 23  TP_CP-liberdade     606 non-null    uint8  \n",
            " 24  TP_CP-outros        606 non-null    uint8  \n",
            " 25  TP_CP-patrimonio    606 non-null    uint8  \n",
            " 26  TP_CP-pessoa        606 non-null    uint8  \n",
            " 27  TP_Drogas           606 non-null    uint8  \n",
            " 28  TP_Outros           606 non-null    uint8  \n",
            " 29  TP_Transito         606 non-null    uint8  \n",
            "dtypes: float64(4), int64(14), uint8(12)\n",
            "memory usage: 97.1 KB\n"
          ],
          "name": "stdout"
        }
      ]
    },
    {
      "cell_type": "markdown",
      "metadata": {
        "id": "gL3aP-i3V48_"
      },
      "source": [
        "## train-test split"
      ]
    },
    {
      "cell_type": "code",
      "metadata": {
        "id": "pibsiedFEsGp"
      },
      "source": [
        "# other class to test: CondSocialCirc GeneroReu\n",
        "classe = 'CondSocialCirc'"
      ],
      "execution_count": null,
      "outputs": []
    },
    {
      "cell_type": "code",
      "metadata": {
        "id": "2LStw3WgV48_"
      },
      "source": [
        "X = data_src.drop(columns=[classe]).values\n",
        "y = data_src[classe].values"
      ],
      "execution_count": null,
      "outputs": []
    },
    {
      "cell_type": "code",
      "metadata": {
        "colab": {
          "base_uri": "https://localhost:8080/"
        },
        "id": "DCtKuD7TV49A",
        "outputId": "e91f1a92-9766-4d1e-ce94-1d3249fdcd30"
      },
      "source": [
        "X.shape"
      ],
      "execution_count": null,
      "outputs": [
        {
          "output_type": "execute_result",
          "data": {
            "text/plain": [
              "(606, 29)"
            ]
          },
          "metadata": {
            "tags": []
          },
          "execution_count": 90
        }
      ]
    },
    {
      "cell_type": "code",
      "metadata": {
        "id": "qHALFY-lV49A"
      },
      "source": [
        "X_train, X_test, y_train, y_test = train_test_split(X, y, test_size=0.3)"
      ],
      "execution_count": null,
      "outputs": []
    },
    {
      "cell_type": "code",
      "metadata": {
        "colab": {
          "base_uri": "https://localhost:8080/"
        },
        "id": "fZM05hj7FAht",
        "outputId": "e265826a-6eec-465a-aad3-813fb989458b"
      },
      "source": [
        "X_train.shape, X_test.shape, y_train.shape, y_test.shape"
      ],
      "execution_count": null,
      "outputs": [
        {
          "output_type": "execute_result",
          "data": {
            "text/plain": [
              "((424, 29), (182, 29), (424,), (182,))"
            ]
          },
          "metadata": {
            "tags": []
          },
          "execution_count": 92
        }
      ]
    },
    {
      "cell_type": "markdown",
      "metadata": {
        "id": "CjmQwFZiRoJI"
      },
      "source": [
        "validacao de elementos unicos?"
      ]
    },
    {
      "cell_type": "code",
      "metadata": {
        "id": "GHLdAxLfV49B"
      },
      "source": [
        "_, counts_elements_train = np.unique(y_train, return_counts=True)\n",
        "_, counts_elements_test = np.unique(y_test, return_counts=True)"
      ],
      "execution_count": null,
      "outputs": []
    },
    {
      "cell_type": "code",
      "metadata": {
        "colab": {
          "base_uri": "https://localhost:8080/"
        },
        "id": "9SuYNF1ZV49B",
        "outputId": "1012785b-be29-44d8-e98e-ba97d3f9b609"
      },
      "source": [
        "counts_elements_train"
      ],
      "execution_count": null,
      "outputs": [
        {
          "output_type": "execute_result",
          "data": {
            "text/plain": [
              "array([350,  74])"
            ]
          },
          "metadata": {
            "tags": []
          },
          "execution_count": 94
        }
      ]
    },
    {
      "cell_type": "code",
      "metadata": {
        "colab": {
          "base_uri": "https://localhost:8080/"
        },
        "id": "QESi5Yr0V49C",
        "outputId": "c126e4d5-683e-413c-cd2e-390572489e50"
      },
      "source": [
        "counts_elements_test"
      ],
      "execution_count": null,
      "outputs": [
        {
          "output_type": "execute_result",
          "data": {
            "text/plain": [
              "array([152,  30])"
            ]
          },
          "metadata": {
            "tags": []
          },
          "execution_count": 95
        }
      ]
    },
    {
      "cell_type": "markdown",
      "metadata": {
        "id": "O9HLgSRqvJSu"
      },
      "source": [
        "## Naive Bayes"
      ]
    },
    {
      "cell_type": "markdown",
      "metadata": {
        "id": "fIZqtqHozAZz"
      },
      "source": [
        "### Gaussian"
      ]
    },
    {
      "cell_type": "code",
      "metadata": {
        "id": "JirVsgT0zDhJ"
      },
      "source": [
        "from sklearn.naive_bayes import GaussianNB"
      ],
      "execution_count": null,
      "outputs": []
    },
    {
      "cell_type": "code",
      "metadata": {
        "id": "xjBmsVmrwx4k"
      },
      "source": [
        "maxIter = 30\n",
        "ext=[0.0]*maxIter\n",
        "acc=[0.0]*maxIter\n",
        "f1s=[0.0]*maxIter\n",
        "mcc=[0.0]*maxIter\n",
        "\n",
        "for i in range(maxIter):\n",
        "\n",
        "    t0 = time.time()\n",
        "    model = GaussianNB()\n",
        "    model.fit(X_train, y_train)\n",
        "\n",
        "    y_pred = model.predict(X_test)\n",
        "\n",
        "    t1 = time.time()\n",
        "\n",
        "    ext[i]=(t1-t0)\n",
        "    acc[i] = metrics.accuracy_score(y_test, y_pred)\n",
        "    f1s[i] = metrics.f1_score(y_test, y_pred)\n",
        "    mcc[i] = metrics.matthews_corrcoef(y_test, y_pred)"
      ],
      "execution_count": null,
      "outputs": []
    },
    {
      "cell_type": "code",
      "metadata": {
        "colab": {
          "base_uri": "https://localhost:8080/"
        },
        "id": "yDtC8kdeNRIJ",
        "outputId": "ac8943a8-d12c-4dba-9e60-7d4e220ea096"
      },
      "source": [
        "model.class_count_, model.class_prior_, model.priors, model.epsilon_"
      ],
      "execution_count": null,
      "outputs": [
        {
          "output_type": "execute_result",
          "data": {
            "text/plain": [
              "(array([400.,  24.]),\n",
              " array([0.94339623, 0.05660377]),\n",
              " None,\n",
              " 2.499499377002493e-10)"
            ]
          },
          "metadata": {
            "tags": []
          },
          "execution_count": 30
        }
      ]
    },
    {
      "cell_type": "code",
      "metadata": {
        "colab": {
          "base_uri": "https://localhost:8080/"
        },
        "id": "FMxqpZwqNWgA",
        "outputId": "4b6bcf4d-2028-45d8-a868-fd258a83fbc8"
      },
      "source": [
        "model.get_params"
      ],
      "execution_count": null,
      "outputs": [
        {
          "output_type": "execute_result",
          "data": {
            "text/plain": [
              "<bound method BaseEstimator.get_params of GaussianNB(priors=None, var_smoothing=1e-09)>"
            ]
          },
          "metadata": {
            "tags": []
          },
          "execution_count": 31
        }
      ]
    },
    {
      "cell_type": "markdown",
      "metadata": {
        "id": "iQOQu5ybJSTh"
      },
      "source": [
        "#### performance evaluation"
      ]
    },
    {
      "cell_type": "code",
      "metadata": {
        "colab": {
          "base_uri": "https://localhost:8080/"
        },
        "id": "k4XjRvSGw5aD",
        "outputId": "45df1e15-e4fb-430c-c493-cb3e8719fdd4"
      },
      "source": [
        "print('Naive Bayes (gaussian) performance results for class',classe)\n",
        "print(\"ExecTime mean:\",np.mean(ext))\n",
        "print(\"Accuracy mean:\",np.mean(acc))\n",
        "print(\"F1-Score mean:\",np.mean(f1s))\n",
        "print(\"Matthews Correlation mean: \",np.mean(mcc))\n",
        "\n",
        "print(\"ExecTime median:\",np.median(ext))\n",
        "print(\"Accuracy median:\",np.median(acc))\n",
        "print(\"F1-Score median:\",np.median(f1s))\n",
        "print(\"Matthews Correlation median:\",np.median(mcc))\n",
        "\n",
        "print(\"ExecTime Std:\",np.std(ext))\n",
        "print(\"Accuracy Std:\",np.std(acc))\n",
        "print(\"F1-Score Std:\",np.std(f1s))\n",
        "print(\"Matthews Correlation Std:\",np.std(mcc))"
      ],
      "execution_count": null,
      "outputs": [
        {
          "output_type": "stream",
          "text": [
            "Naive Bayes (gaussian) performance results for class CondSocialCirc\n",
            "ExecTime mean: 0.0009872754414876302\n",
            "Accuracy mean: 0.24725274725274726\n",
            "F1-Score mean: 0.2974358974358975\n",
            "Matthews Correlation mean:  0.0917117519127686\n",
            "ExecTime median: 0.0009115934371948242\n",
            "Accuracy median: 0.24725274725274726\n",
            "F1-Score median: 0.29743589743589743\n",
            "Matthews Correlation median: 0.0917117519127686\n",
            "ExecTime Std: 0.0002327899026808865\n",
            "Accuracy Std: 0.0\n",
            "F1-Score Std: 5.551115123125783e-17\n",
            "Matthews Correlation Std: 0.0\n"
          ],
          "name": "stdout"
        }
      ]
    },
    {
      "cell_type": "code",
      "metadata": {
        "colab": {
          "base_uri": "https://localhost:8080/"
        },
        "id": "StwyRftDyERy",
        "outputId": "221f6954-b018-414b-e5e4-aaaced713fcf"
      },
      "source": [
        "metrics.confusion_matrix(y_test,y_pred).T"
      ],
      "execution_count": null,
      "outputs": [
        {
          "output_type": "execute_result",
          "data": {
            "text/plain": [
              "array([[ 16,   1],\n",
              "       [136,  29]])"
            ]
          },
          "metadata": {
            "tags": []
          },
          "execution_count": 98
        }
      ]
    },
    {
      "cell_type": "code",
      "metadata": {
        "id": "gu-OTAcTyKic",
        "colab": {
          "base_uri": "https://localhost:8080/"
        },
        "outputId": "24ef643e-d0ef-4bf0-cf20-4e0b0a2343a1"
      },
      "source": [
        "print(ext, '\\n', acc,'\\n',f1s,'\\n', mcc)"
      ],
      "execution_count": null,
      "outputs": [
        {
          "output_type": "stream",
          "text": [
            "[0.0018279552459716797, 0.0011436939239501953, 0.0010306835174560547, 0.0019960403442382812, 0.0010328292846679688, 0.0010347366333007812, 0.0009367465972900391, 0.001024484634399414, 0.0009763240814208984, 0.001001596450805664, 0.0010433197021484375, 0.0009899139404296875, 0.0010027885437011719, 0.0009989738464355469, 0.0009615421295166016, 0.0010058879852294922, 0.000946044921875, 0.0008981227874755859, 0.0008928775787353516, 0.0008795261383056641, 0.0009267330169677734, 0.0008914470672607422, 0.0009539127349853516, 0.0009145736694335938, 0.0009577274322509766, 0.000904083251953125, 0.0009331703186035156, 0.0008928775787353516, 0.0009093284606933594, 0.0008993148803710938] \n",
            " [0.3131868131868132, 0.3131868131868132, 0.3131868131868132, 0.3131868131868132, 0.3131868131868132, 0.3131868131868132, 0.3131868131868132, 0.3131868131868132, 0.3131868131868132, 0.3131868131868132, 0.3131868131868132, 0.3131868131868132, 0.3131868131868132, 0.3131868131868132, 0.3131868131868132, 0.3131868131868132, 0.3131868131868132, 0.3131868131868132, 0.3131868131868132, 0.3131868131868132, 0.3131868131868132, 0.3131868131868132, 0.3131868131868132, 0.3131868131868132, 0.3131868131868132, 0.3131868131868132, 0.3131868131868132, 0.3131868131868132, 0.3131868131868132, 0.3131868131868132] \n",
            " [0.1258741258741259, 0.1258741258741259, 0.1258741258741259, 0.1258741258741259, 0.1258741258741259, 0.1258741258741259, 0.1258741258741259, 0.1258741258741259, 0.1258741258741259, 0.1258741258741259, 0.1258741258741259, 0.1258741258741259, 0.1258741258741259, 0.1258741258741259, 0.1258741258741259, 0.1258741258741259, 0.1258741258741259, 0.1258741258741259, 0.1258741258741259, 0.1258741258741259, 0.1258741258741259, 0.1258741258741259, 0.1258741258741259, 0.1258741258741259, 0.1258741258741259, 0.1258741258741259, 0.1258741258741259, 0.1258741258741259, 0.1258741258741259, 0.1258741258741259] \n",
            " [-0.09147427609085494, -0.09147427609085494, -0.09147427609085494, -0.09147427609085494, -0.09147427609085494, -0.09147427609085494, -0.09147427609085494, -0.09147427609085494, -0.09147427609085494, -0.09147427609085494, -0.09147427609085494, -0.09147427609085494, -0.09147427609085494, -0.09147427609085494, -0.09147427609085494, -0.09147427609085494, -0.09147427609085494, -0.09147427609085494, -0.09147427609085494, -0.09147427609085494, -0.09147427609085494, -0.09147427609085494, -0.09147427609085494, -0.09147427609085494, -0.09147427609085494, -0.09147427609085494, -0.09147427609085494, -0.09147427609085494, -0.09147427609085494, -0.09147427609085494]\n"
          ],
          "name": "stdout"
        }
      ]
    },
    {
      "cell_type": "code",
      "metadata": {
        "id": "3vJuNpOuRH1d"
      },
      "source": [
        "from matplotlib import rcParams\n",
        "\n",
        "default_font_size = rcParams['font.size']\n",
        "rcParams['font.size'] = 20\n",
        "rcParams['axes.labelsize']=20\n",
        "rcParams['axes.titlesize']=20\n",
        "rcParams['figure.figsize'] =(5.0, 5.5)\n",
        "\n",
        "# ['Male','Female'] ou ['No','Yes']\n",
        "categ = ['No','Yes']"
      ],
      "execution_count": null,
      "outputs": []
    },
    {
      "cell_type": "code",
      "metadata": {
        "colab": {
          "base_uri": "https://localhost:8080/",
          "height": 376
        },
        "id": "eZeG7ag6xEff",
        "outputId": "c15d6bd0-f714-47aa-bee2-af0bd4298a86"
      },
      "source": [
        "mat = metrics.confusion_matrix(y_test, y_pred)\n",
        "\n",
        "sns.heatmap(mat.T, square=True, annot=True, fmt='d', cbar=False,\n",
        "            xticklabels=categ, yticklabels=categ)\n",
        "\n",
        "plt.tick_params(labelsize=15)\n",
        "plt.title(classe)\n",
        "plt.xlabel('true label')\n",
        "plt.ylabel('predicted label')\n",
        "\n",
        "plt.show()"
      ],
      "execution_count": null,
      "outputs": [
        {
          "output_type": "display_data",
          "data": {
            "image/png": "[encoded data removed]",
            "text/plain": [
              "<Figure size 360x396 with 1 Axes>"
            ]
          },
          "metadata": {
            "tags": [],
            "needs_background": "light"
          }
        }
      ]
    },
    {
      "cell_type": "code",
      "metadata": {
        "colab": {
          "base_uri": "https://localhost:8080/",
          "height": 173
        },
        "id": "61fnW7ylyERz",
        "outputId": "eb19c0fc-69f9-496f-d860-f54ed7706921"
      },
      "source": [
        "pd.crosstab(y_test, y_pred, rownames=['True'], colnames=['Predicted'], margins=True, normalize=True)"
      ],
      "execution_count": null,
      "outputs": [
        {
          "output_type": "execute_result",
          "data": {
            "text/html": [
              "<div>\n",
              "<style scoped>\n",
              "    .dataframe tbody tr th:only-of-type {\n",
              "        vertical-align: middle;\n",
              "    }\n",
              "\n",
              "    .dataframe tbody tr th {\n",
              "        vertical-align: top;\n",
              "    }\n",
              "\n",
              "    .dataframe thead th {\n",
              "        text-align: right;\n",
              "    }\n",
              "</style>\n",
              "<table border=\"1\" class=\"dataframe\">\n",
              "  <thead>\n",
              "    <tr style=\"text-align: right;\">\n",
              "      <th>Predicted</th>\n",
              "      <th>0</th>\n",
              "      <th>1</th>\n",
              "      <th>All</th>\n",
              "    </tr>\n",
              "    <tr>\n",
              "      <th>True</th>\n",
              "      <th></th>\n",
              "      <th></th>\n",
              "      <th></th>\n",
              "    </tr>\n",
              "  </thead>\n",
              "  <tbody>\n",
              "    <tr>\n",
              "      <th>0</th>\n",
              "      <td>0.263736</td>\n",
              "      <td>0.648352</td>\n",
              "      <td>0.912088</td>\n",
              "    </tr>\n",
              "    <tr>\n",
              "      <th>1</th>\n",
              "      <td>0.038462</td>\n",
              "      <td>0.049451</td>\n",
              "      <td>0.087912</td>\n",
              "    </tr>\n",
              "    <tr>\n",
              "      <th>All</th>\n",
              "      <td>0.302198</td>\n",
              "      <td>0.697802</td>\n",
              "      <td>1.000000</td>\n",
              "    </tr>\n",
              "  </tbody>\n",
              "</table>\n",
              "</div>"
            ],
            "text/plain": [
              "Predicted         0         1       All\n",
              "True                                   \n",
              "0          0.263736  0.648352  0.912088\n",
              "1          0.038462  0.049451  0.087912\n",
              "All        0.302198  0.697802  1.000000"
            ]
          },
          "metadata": {
            "tags": []
          },
          "execution_count": 37
        }
      ]
    },
    {
      "cell_type": "markdown",
      "metadata": {
        "id": "L-E49fFESRfB"
      },
      "source": [
        "#### ROC Curve\n",
        "\n",
        "search or discard??"
      ]
    },
    {
      "cell_type": "code",
      "metadata": {
        "id": "SCrEo8x7SRfC"
      },
      "source": [
        "y_pred_proba = model.predict_proba(X_test)[:,1]"
      ],
      "execution_count": null,
      "outputs": []
    },
    {
      "cell_type": "code",
      "metadata": {
        "id": "QqgyDTvkSRfC"
      },
      "source": [
        "fpr, tpr, thresholds = metrics.roc_curve(y_test, y_pred_proba)\n"
      ],
      "execution_count": null,
      "outputs": []
    },
    {
      "cell_type": "code",
      "metadata": {
        "colab": {
          "base_uri": "https://localhost:8080/"
        },
        "id": "hNQxjM2RSRfD",
        "outputId": "4cec5173-6169-404c-e180-1bbe32e50c54"
      },
      "source": [
        "plt.plot([0,1],[0,1],'k--')\n",
        "plt.plot(fpr,tpr, label='Knn')\n",
        "plt.xlabel('fpr')\n",
        "plt.ylabel('tpr')\n",
        "plt.title('NB ROC curve')\n",
        "plt.show()"
      ],
      "execution_count": null,
      "outputs": [
        {
          "output_type": "display_data",
          "data": {
            "image/png": "[encoded data removed]",
            "text/plain": [
              "<Figure size 360x396 with 1 Axes>"
            ]
          },
          "metadata": {
            "tags": [],
            "needs_background": "light"
          }
        }
      ]
    },
    {
      "cell_type": "code",
      "metadata": {
        "colab": {
          "base_uri": "https://localhost:8080/"
        },
        "id": "2QkuKeH9SRfE",
        "outputId": "5d0ad767-e25b-418c-a345-4a3d2887d071"
      },
      "source": [
        "#Area under ROC curve\n",
        "\n",
        "metrics.roc_auc_score(y_test,y_pred_proba)"
      ],
      "execution_count": null,
      "outputs": [
        {
          "output_type": "execute_result",
          "data": {
            "text/plain": [
              "0.43091114457831325"
            ]
          },
          "metadata": {
            "tags": []
          },
          "execution_count": 41
        }
      ]
    },
    {
      "cell_type": "markdown",
      "metadata": {
        "id": "QQUPqfY8zERm"
      },
      "source": [
        "### Multinomial"
      ]
    },
    {
      "cell_type": "code",
      "metadata": {
        "id": "_gmUcoxqp7LZ"
      },
      "source": [
        "from sklearn.naive_bayes import MultinomialNB"
      ],
      "execution_count": null,
      "outputs": []
    },
    {
      "cell_type": "code",
      "metadata": {
        "id": "lWn9ufqfxPaD",
        "colab": {
          "base_uri": "https://localhost:8080/"
        },
        "outputId": "c680a0ed-eaa3-4f93-dd08-29f76d75b1a4"
      },
      "source": [
        "maxIter = 30\n",
        "ext=[0.0]*maxIter\n",
        "acc=[0.0]*maxIter\n",
        "f1s=[0.0]*maxIter\n",
        "mcc=[0.0]*maxIter\n",
        "\n",
        "for i in range(maxIter):\n",
        "\n",
        "    t0 = time.time()\n",
        "\n",
        "    model = MultinomialNB()\n",
        "    model.fit(X_train, y_train)\n",
        "\n",
        "    y_pred = model.predict(X_test)\n",
        "\n",
        "    t1 = time.time()\n",
        "\n",
        "    ext[i]=(t1-t0)\n",
        "    acc[i] = metrics.accuracy_score(y_test, y_pred)\n",
        "    f1s[i] = metrics.f1_score(y_test, y_pred)\n",
        "    mcc[i] = metrics.matthews_corrcoef(y_test, y_pred)\n"
      ],
      "execution_count": null,
      "outputs": [
        {
          "output_type": "stream",
          "text": [
            "/usr/local/lib/python3.7/dist-packages/sklearn/metrics/_classification.py:900: RuntimeWarning: invalid value encountered in double_scalars\n",
            "  mcc = cov_ytyp / np.sqrt(cov_ytyt * cov_ypyp)\n",
            "/usr/local/lib/python3.7/dist-packages/sklearn/metrics/_classification.py:900: RuntimeWarning: invalid value encountered in double_scalars\n",
            "  mcc = cov_ytyp / np.sqrt(cov_ytyt * cov_ypyp)\n",
            "/usr/local/lib/python3.7/dist-packages/sklearn/metrics/_classification.py:900: RuntimeWarning: invalid value encountered in double_scalars\n",
            "  mcc = cov_ytyp / np.sqrt(cov_ytyt * cov_ypyp)\n",
            "/usr/local/lib/python3.7/dist-packages/sklearn/metrics/_classification.py:900: RuntimeWarning: invalid value encountered in double_scalars\n",
            "  mcc = cov_ytyp / np.sqrt(cov_ytyt * cov_ypyp)\n",
            "/usr/local/lib/python3.7/dist-packages/sklearn/metrics/_classification.py:900: RuntimeWarning: invalid value encountered in double_scalars\n",
            "  mcc = cov_ytyp / np.sqrt(cov_ytyt * cov_ypyp)\n",
            "/usr/local/lib/python3.7/dist-packages/sklearn/metrics/_classification.py:900: RuntimeWarning: invalid value encountered in double_scalars\n",
            "  mcc = cov_ytyp / np.sqrt(cov_ytyt * cov_ypyp)\n",
            "/usr/local/lib/python3.7/dist-packages/sklearn/metrics/_classification.py:900: RuntimeWarning: invalid value encountered in double_scalars\n",
            "  mcc = cov_ytyp / np.sqrt(cov_ytyt * cov_ypyp)\n",
            "/usr/local/lib/python3.7/dist-packages/sklearn/metrics/_classification.py:900: RuntimeWarning: invalid value encountered in double_scalars\n",
            "  mcc = cov_ytyp / np.sqrt(cov_ytyt * cov_ypyp)\n",
            "/usr/local/lib/python3.7/dist-packages/sklearn/metrics/_classification.py:900: RuntimeWarning: invalid value encountered in double_scalars\n",
            "  mcc = cov_ytyp / np.sqrt(cov_ytyt * cov_ypyp)\n",
            "/usr/local/lib/python3.7/dist-packages/sklearn/metrics/_classification.py:900: RuntimeWarning: invalid value encountered in double_scalars\n",
            "  mcc = cov_ytyp / np.sqrt(cov_ytyt * cov_ypyp)\n",
            "/usr/local/lib/python3.7/dist-packages/sklearn/metrics/_classification.py:900: RuntimeWarning: invalid value encountered in double_scalars\n",
            "  mcc = cov_ytyp / np.sqrt(cov_ytyt * cov_ypyp)\n",
            "/usr/local/lib/python3.7/dist-packages/sklearn/metrics/_classification.py:900: RuntimeWarning: invalid value encountered in double_scalars\n",
            "  mcc = cov_ytyp / np.sqrt(cov_ytyt * cov_ypyp)\n",
            "/usr/local/lib/python3.7/dist-packages/sklearn/metrics/_classification.py:900: RuntimeWarning: invalid value encountered in double_scalars\n",
            "  mcc = cov_ytyp / np.sqrt(cov_ytyt * cov_ypyp)\n",
            "/usr/local/lib/python3.7/dist-packages/sklearn/metrics/_classification.py:900: RuntimeWarning: invalid value encountered in double_scalars\n",
            "  mcc = cov_ytyp / np.sqrt(cov_ytyt * cov_ypyp)\n",
            "/usr/local/lib/python3.7/dist-packages/sklearn/metrics/_classification.py:900: RuntimeWarning: invalid value encountered in double_scalars\n",
            "  mcc = cov_ytyp / np.sqrt(cov_ytyt * cov_ypyp)\n",
            "/usr/local/lib/python3.7/dist-packages/sklearn/metrics/_classification.py:900: RuntimeWarning: invalid value encountered in double_scalars\n",
            "  mcc = cov_ytyp / np.sqrt(cov_ytyt * cov_ypyp)\n",
            "/usr/local/lib/python3.7/dist-packages/sklearn/metrics/_classification.py:900: RuntimeWarning: invalid value encountered in double_scalars\n",
            "  mcc = cov_ytyp / np.sqrt(cov_ytyt * cov_ypyp)\n",
            "/usr/local/lib/python3.7/dist-packages/sklearn/metrics/_classification.py:900: RuntimeWarning: invalid value encountered in double_scalars\n",
            "  mcc = cov_ytyp / np.sqrt(cov_ytyt * cov_ypyp)\n",
            "/usr/local/lib/python3.7/dist-packages/sklearn/metrics/_classification.py:900: RuntimeWarning: invalid value encountered in double_scalars\n",
            "  mcc = cov_ytyp / np.sqrt(cov_ytyt * cov_ypyp)\n",
            "/usr/local/lib/python3.7/dist-packages/sklearn/metrics/_classification.py:900: RuntimeWarning: invalid value encountered in double_scalars\n",
            "  mcc = cov_ytyp / np.sqrt(cov_ytyt * cov_ypyp)\n",
            "/usr/local/lib/python3.7/dist-packages/sklearn/metrics/_classification.py:900: RuntimeWarning: invalid value encountered in double_scalars\n",
            "  mcc = cov_ytyp / np.sqrt(cov_ytyt * cov_ypyp)\n",
            "/usr/local/lib/python3.7/dist-packages/sklearn/metrics/_classification.py:900: RuntimeWarning: invalid value encountered in double_scalars\n",
            "  mcc = cov_ytyp / np.sqrt(cov_ytyt * cov_ypyp)\n",
            "/usr/local/lib/python3.7/dist-packages/sklearn/metrics/_classification.py:900: RuntimeWarning: invalid value encountered in double_scalars\n",
            "  mcc = cov_ytyp / np.sqrt(cov_ytyt * cov_ypyp)\n",
            "/usr/local/lib/python3.7/dist-packages/sklearn/metrics/_classification.py:900: RuntimeWarning: invalid value encountered in double_scalars\n",
            "  mcc = cov_ytyp / np.sqrt(cov_ytyt * cov_ypyp)\n",
            "/usr/local/lib/python3.7/dist-packages/sklearn/metrics/_classification.py:900: RuntimeWarning: invalid value encountered in double_scalars\n",
            "  mcc = cov_ytyp / np.sqrt(cov_ytyt * cov_ypyp)\n",
            "/usr/local/lib/python3.7/dist-packages/sklearn/metrics/_classification.py:900: RuntimeWarning: invalid value encountered in double_scalars\n",
            "  mcc = cov_ytyp / np.sqrt(cov_ytyt * cov_ypyp)\n",
            "/usr/local/lib/python3.7/dist-packages/sklearn/metrics/_classification.py:900: RuntimeWarning: invalid value encountered in double_scalars\n",
            "  mcc = cov_ytyp / np.sqrt(cov_ytyt * cov_ypyp)\n",
            "/usr/local/lib/python3.7/dist-packages/sklearn/metrics/_classification.py:900: RuntimeWarning: invalid value encountered in double_scalars\n",
            "  mcc = cov_ytyp / np.sqrt(cov_ytyt * cov_ypyp)\n",
            "/usr/local/lib/python3.7/dist-packages/sklearn/metrics/_classification.py:900: RuntimeWarning: invalid value encountered in double_scalars\n",
            "  mcc = cov_ytyp / np.sqrt(cov_ytyt * cov_ypyp)\n",
            "/usr/local/lib/python3.7/dist-packages/sklearn/metrics/_classification.py:900: RuntimeWarning: invalid value encountered in double_scalars\n",
            "  mcc = cov_ytyp / np.sqrt(cov_ytyt * cov_ypyp)\n"
          ],
          "name": "stderr"
        }
      ]
    },
    {
      "cell_type": "markdown",
      "metadata": {
        "id": "Loc3NpFjKmnn"
      },
      "source": [
        "#### performance evaluation"
      ]
    },
    {
      "cell_type": "code",
      "metadata": {
        "colab": {
          "base_uri": "https://localhost:8080/"
        },
        "id": "MXqc_ZDogWcs",
        "outputId": "49c196e9-332c-49d0-ee91-13c039bec8ff"
      },
      "source": [
        "print('Naive Bayes (multinomial) performance results for class',classe)\n",
        "print(\"ExecTime mean:\",np.mean(ext))\n",
        "print(\"Accuracy mean:\",np.mean(acc))\n",
        "print(\"F1-Score mean:\",np.mean(f1s))\n",
        "print(\"Matthews Correlation mean:\",np.mean(mcc))\n",
        "\n",
        "print(\"ExecTime median:\",np.median(ext))\n",
        "print(\"Accuracy median:\",np.median(acc))\n",
        "print(\"F1-Score median:\",np.median(f1s))\n",
        "print(\"Matthews Correlation median:\",np.median(mcc))\n",
        "\n",
        "print(\"ExecTime Std:\",np.std(ext))\n",
        "print(\"Accuracy Std:\",np.std(acc))\n",
        "print(\"F1-Score Std:\",np.std(f1s))\n",
        "print(\"Matthews Correlation Std:\",np.std(mcc))"
      ],
      "execution_count": null,
      "outputs": [
        {
          "output_type": "stream",
          "text": [
            "Naive Bayes (multinomial) performance results for class GeneroReu\n",
            "ExecTime mean: 0.0008646885553995769\n",
            "Accuracy mean: 0.9285714285714283\n",
            "F1-Score mean: 0.0\n",
            "Matthews Correlation mean: 0.0\n",
            "ExecTime median: 0.0007159709930419922\n",
            "Accuracy median: 0.9285714285714286\n",
            "F1-Score median: 0.0\n",
            "Matthews Correlation median: 0.0\n",
            "ExecTime Std: 0.0003608508773676107\n",
            "Accuracy Std: 3.3306690738754696e-16\n",
            "F1-Score Std: 0.0\n",
            "Matthews Correlation Std: 0.0\n"
          ],
          "name": "stdout"
        }
      ]
    },
    {
      "cell_type": "code",
      "metadata": {
        "colab": {
          "base_uri": "https://localhost:8080/"
        },
        "id": "2SJThHX7GoJl",
        "outputId": "b2ea1aee-520c-4623-fcb4-d6a42f097ea7"
      },
      "source": [
        "print(ext, '\\n', acc,'\\n',f1s,'\\n', mcc)"
      ],
      "execution_count": null,
      "outputs": [
        {
          "output_type": "stream",
          "text": [
            "[0.0016894340515136719, 0.0019421577453613281, 0.0016736984252929688, 0.00170135498046875, 0.0009899139404296875, 0.0006909370422363281, 0.0006947517395019531, 0.0006506443023681641, 0.0007228851318359375, 0.0006875991821289062, 0.0007085800170898438, 0.0007507801055908203, 0.0006461143493652344, 0.0006759166717529297, 0.0007693767547607422, 0.0007569789886474609, 0.0007259845733642578, 0.0008344650268554688, 0.0007393360137939453, 0.0007090568542480469, 0.0007770061492919922, 0.0006589889526367188, 0.0006544589996337891, 0.0006775856018066406, 0.0006546974182128906, 0.0006334781646728516, 0.0010268688201904297, 0.0007076263427734375, 0.0007255077362060547, 0.0006644725799560547] \n",
            " [0.9285714285714286, 0.9285714285714286, 0.9285714285714286, 0.9285714285714286, 0.9285714285714286, 0.9285714285714286, 0.9285714285714286, 0.9285714285714286, 0.9285714285714286, 0.9285714285714286, 0.9285714285714286, 0.9285714285714286, 0.9285714285714286, 0.9285714285714286, 0.9285714285714286, 0.9285714285714286, 0.9285714285714286, 0.9285714285714286, 0.9285714285714286, 0.9285714285714286, 0.9285714285714286, 0.9285714285714286, 0.9285714285714286, 0.9285714285714286, 0.9285714285714286, 0.9285714285714286, 0.9285714285714286, 0.9285714285714286, 0.9285714285714286, 0.9285714285714286] \n",
            " [0.0, 0.0, 0.0, 0.0, 0.0, 0.0, 0.0, 0.0, 0.0, 0.0, 0.0, 0.0, 0.0, 0.0, 0.0, 0.0, 0.0, 0.0, 0.0, 0.0, 0.0, 0.0, 0.0, 0.0, 0.0, 0.0, 0.0, 0.0, 0.0, 0.0] \n",
            " [0.0, 0.0, 0.0, 0.0, 0.0, 0.0, 0.0, 0.0, 0.0, 0.0, 0.0, 0.0, 0.0, 0.0, 0.0, 0.0, 0.0, 0.0, 0.0, 0.0, 0.0, 0.0, 0.0, 0.0, 0.0, 0.0, 0.0, 0.0, 0.0, 0.0]\n"
          ],
          "name": "stdout"
        }
      ]
    },
    {
      "cell_type": "code",
      "metadata": {
        "colab": {
          "base_uri": "https://localhost:8080/"
        },
        "id": "kfh5PFbegcKu",
        "outputId": "613c67c1-26f6-4362-bb60-d5b71ee09845"
      },
      "source": [
        "metrics.confusion_matrix(y_test, y_pred).T"
      ],
      "execution_count": null,
      "outputs": [
        {
          "output_type": "execute_result",
          "data": {
            "text/plain": [
              "array([[169,  13],\n",
              "       [  0,   0]])"
            ]
          },
          "metadata": {
            "tags": []
          },
          "execution_count": 93
        }
      ]
    },
    {
      "cell_type": "code",
      "metadata": {
        "id": "lVH65UajDg2R"
      },
      "source": [
        "from matplotlib import rcParams\n",
        "\n",
        "default_font_size = rcParams['font.size']\n",
        "rcParams['font.size'] = 20\n",
        "rcParams['axes.labelsize']=20\n",
        "rcParams['axes.titlesize']=20\n",
        "rcParams['figure.figsize'] =(5.0, 5.5)"
      ],
      "execution_count": null,
      "outputs": []
    },
    {
      "cell_type": "code",
      "metadata": {
        "colab": {
          "base_uri": "https://localhost:8080/",
          "height": 212
        },
        "id": "z6mdj6GutsSc",
        "outputId": "3af0f107-9c6c-4037-81b8-950cdc07119f"
      },
      "source": [
        "mat = metrics.confusion_matrix(y_test, y_pred)\n",
        "plt.figure(figsize=(3,3))\n",
        "sns.heatmap(mat.T, square=True, annot=True, fmt='d', cbar=False,\n",
        "            xticklabels=['Male','Female'], yticklabels=['Male','Female'])\n",
        "\n",
        "plt.tick_params(labelsize=15)\n",
        "plt.title(classe)\n",
        "plt.xlabel('true label')\n",
        "plt.ylabel('predicted label')\n",
        "\n",
        "plt.show()"
      ],
      "execution_count": null,
      "outputs": [
        {
          "output_type": "display_data",
          "data": {
            "image/png": "[encoded data removed]",
            "text/plain": [
              "<Figure size 216x216 with 2 Axes>"
            ]
          },
          "metadata": {
            "tags": [],
            "needs_background": "light"
          }
        }
      ]
    },
    {
      "cell_type": "code",
      "metadata": {
        "colab": {
          "base_uri": "https://localhost:8080/",
          "height": 173
        },
        "id": "PG0D8VOrpsp7",
        "outputId": "6b999008-d55c-43f9-ecd9-4723cd6bd5be"
      },
      "source": [
        "pd.crosstab(y_test, y_pred, rownames=['True'], colnames=['Predicted'], margins=True, normalize=True)"
      ],
      "execution_count": null,
      "outputs": [
        {
          "output_type": "execute_result",
          "data": {
            "text/html": [
              "<div>\n",
              "<style scoped>\n",
              "    .dataframe tbody tr th:only-of-type {\n",
              "        vertical-align: middle;\n",
              "    }\n",
              "\n",
              "    .dataframe tbody tr th {\n",
              "        vertical-align: top;\n",
              "    }\n",
              "\n",
              "    .dataframe thead th {\n",
              "        text-align: right;\n",
              "    }\n",
              "</style>\n",
              "<table border=\"1\" class=\"dataframe\">\n",
              "  <thead>\n",
              "    <tr style=\"text-align: right;\">\n",
              "      <th>Predicted</th>\n",
              "      <th>0</th>\n",
              "      <th>All</th>\n",
              "    </tr>\n",
              "    <tr>\n",
              "      <th>True</th>\n",
              "      <th></th>\n",
              "      <th></th>\n",
              "    </tr>\n",
              "  </thead>\n",
              "  <tbody>\n",
              "    <tr>\n",
              "      <th>0</th>\n",
              "      <td>0.928571</td>\n",
              "      <td>0.928571</td>\n",
              "    </tr>\n",
              "    <tr>\n",
              "      <th>1</th>\n",
              "      <td>0.071429</td>\n",
              "      <td>0.071429</td>\n",
              "    </tr>\n",
              "    <tr>\n",
              "      <th>All</th>\n",
              "      <td>1.000000</td>\n",
              "      <td>1.000000</td>\n",
              "    </tr>\n",
              "  </tbody>\n",
              "</table>\n",
              "</div>"
            ],
            "text/plain": [
              "Predicted         0       All\n",
              "True                         \n",
              "0          0.928571  0.928571\n",
              "1          0.071429  0.071429\n",
              "All        1.000000  1.000000"
            ]
          },
          "metadata": {
            "tags": []
          },
          "execution_count": 95
        }
      ]
    },
    {
      "cell_type": "markdown",
      "metadata": {
        "id": "caDB4AtdXQuj"
      },
      "source": [
        "#### ROC Curve\n",
        "\n",
        "search or discard??"
      ]
    },
    {
      "cell_type": "code",
      "metadata": {
        "id": "-0zqIooQW-KV"
      },
      "source": [
        "y_pred_proba = model.predict_proba(X_test)[:,1]"
      ],
      "execution_count": null,
      "outputs": []
    },
    {
      "cell_type": "code",
      "metadata": {
        "id": "wGbs0J5BXWGr"
      },
      "source": [
        "fpr, tpr, thresholds = metrics.roc_curve(y_test, y_pred_proba)\n"
      ],
      "execution_count": null,
      "outputs": []
    },
    {
      "cell_type": "code",
      "metadata": {
        "id": "uakHJxiHXWdq",
        "colab": {
          "base_uri": "https://localhost:8080/",
          "height": 295
        },
        "outputId": "3c48b087-7edb-4cfe-e0d5-9881cd7f44c4"
      },
      "source": [
        "plt.plot([0,1],[0,1],'k--')\n",
        "plt.plot(fpr,tpr, label='Knn')\n",
        "plt.xlabel('fpr')\n",
        "plt.ylabel('tpr')\n",
        "plt.title('Knn(n_neighbors=7) ROC curve')\n",
        "plt.show()"
      ],
      "execution_count": null,
      "outputs": [
        {
          "output_type": "display_data",
          "data": {
            "image/png": "[encoded data removed]",
            "text/plain": [
              "<Figure size 432x288 with 1 Axes>"
            ]
          },
          "metadata": {
            "tags": [],
            "needs_background": "light"
          }
        }
      ]
    },
    {
      "cell_type": "code",
      "metadata": {
        "id": "DhtZjWAKY-f1",
        "colab": {
          "base_uri": "https://localhost:8080/"
        },
        "outputId": "d17e2554-cefb-4ddf-9034-97f69b241515"
      },
      "source": [
        "#Area under ROC curve\n",
        "\n",
        "metrics.roc_auc_score(y_test,y_pred_proba)"
      ],
      "execution_count": null,
      "outputs": [
        {
          "output_type": "execute_result",
          "data": {
            "text/plain": [
              "0.7123350022758307"
            ]
          },
          "metadata": {
            "tags": []
          },
          "execution_count": 99
        }
      ]
    }
  ]
}